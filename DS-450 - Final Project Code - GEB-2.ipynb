{
 "cells": [
  {
   "cell_type": "markdown",
   "id": "c251dbd6",
   "metadata": {},
   "source": [
    "# Importing Libraries"
   ]
  },
  {
   "cell_type": "code",
   "execution_count": 1,
   "id": "4650f8f1",
   "metadata": {},
   "outputs": [],
   "source": [
    "import os\n",
    "import pandas as pd\n",
    "import numpy as np\n",
    "import matplotlib.pyplot as plt\n",
    "import PIL\n",
    "from PIL import Image"
   ]
  },
  {
   "cell_type": "markdown",
   "id": "ad1a53f6",
   "metadata": {},
   "source": [
    "# Getting Mean, Max, Min, Std. Dev., and Other Values from Directories"
   ]
  },
  {
   "cell_type": "code",
   "execution_count": 2,
   "id": "40e2c981",
   "metadata": {},
   "outputs": [],
   "source": [
    "directory = 'Desktop/DALLE.cup'"
   ]
  },
  {
   "cell_type": "code",
   "execution_count": 3,
   "id": "abbb1422",
   "metadata": {},
   "outputs": [],
   "source": [
    "def get_directory_info(directory):\n",
    "    print(directory)\n",
    "    sizes = list()\n",
    "    widths = []\n",
    "    heights = []\n",
    "    \n",
    "    for filename in os.listdir(directory):\n",
    "        f = os.path.join(directory, filename)\n",
    "        #print(f)\n",
    "        if os.path.isfile(f):\n",
    "            if(f.endswith(\".png\")):\n",
    "               print(f) \n",
    "               size = round(os.path.getsize(f)/1023) #converts the size to kilobytes\n",
    "               sizes.append(size)\n",
    "                \n",
    "               img_path = os.path.join(f) #makes image file path\n",
    "               im = Image.open(img_path)\n",
    "               widths.append(im.size[0])\n",
    "               heights.append(im.size[1])\n",
    "\n",
    "            \n",
    "    AVG_HEIGHT = round(sum(heights)/len(heights))\n",
    "    AVG_WIDTH = round(sum(widths)/len(widths))\n",
    "    \n",
    "    return (np.mean(sizes), np.max(sizes), np.min(sizes), np.std(sizes), AVG_HEIGHT, AVG_WIDTH)"
   ]
  },
  {
   "cell_type": "code",
   "execution_count": 4,
   "id": "3c6ccd91",
   "metadata": {},
   "outputs": [
    {
     "name": "stdout",
     "output_type": "stream",
     "text": [
      "Desktop/DALLE.cup\n",
      "Desktop/DALLE.cup/DALL·E 2023-01-30 14.51.28 - acrylic painting of a cup.png\n",
      "Desktop/DALLE.cup/DALL·E 2023-01-30 14.52.56 - watercolor of a cup.png\n",
      "Desktop/DALLE.cup/DALL·E 2023-01-30 14.51.49 - acrylic painting of a cup.png\n",
      "Desktop/DALLE.cup/DALL·E 2023-01-30 14.51.12 - drawing of a cup.png\n",
      "Desktop/DALLE.cup/DALL·E 2023-01-30 14.39.02 - painting of cup.png\n",
      "Desktop/DALLE.cup/DALL·E 2023-01-30 14.49.01 - cup sketch.png\n",
      "Desktop/DALLE.cup/DALL·E 2023-01-30 14.49.42 - cup watercolor.png\n",
      "Desktop/DALLE.cup/DALL·E 2023-01-30 14.52.30 - oil pastels painting of a cup.png\n",
      "Desktop/DALLE.cup/DALL·E 2023-01-30 14.52.51 - watercolor of a cup.png\n",
      "Desktop/DALLE.cup/DALL·E 2023-01-30 14.51.53 - acrylic painting of a cup.png\n",
      "Desktop/DALLE.cup/DALL·E 2023-01-30 14.49.47 - cup watercolor.png\n",
      "Desktop/DALLE.cup/DALL·E 2023-01-30 14.52.29 - oil pastels painting of a cup.png\n",
      "Desktop/DALLE.cup/DALL·E 2023-01-30 14.39.10 - painting of cup.png\n",
      "Desktop/DALLE.cup/DALL·E 2023-01-30 14.52.54 - watercolor of a cup.png\n",
      "Desktop/DALLE.cup/DALL·E 2023-01-30 14.40.30 - painting of cup.png\n",
      "Desktop/DALLE.cup/DALL·E 2023-01-30 14.40.26 - painting of cup.png\n",
      "Desktop/DALLE.cup/DALL·E 2023-01-30 14.51.55 - acrylic painting of a cup.png\n",
      "Desktop/DALLE.cup/DALL·E 2023-01-30 14.51.31 - acrylic painting of a cup.png\n",
      "Desktop/DALLE.cup/DALL·E 2023-01-30 14.36.35 - cup drawing.png\n",
      "Desktop/DALLE.cup/DALL·E 2023-01-30 14.54.26 - watercolor of a cup.png\n",
      "Desktop/DALLE.cup/DALL·E 2023-01-30 14.51.10 - drawing of a cup.png\n",
      "Desktop/DALLE.cup/DALL·E 2023-01-30 14.40.24 - painting of cup.png\n",
      "Desktop/DALLE.cup/DALL·E 2023-01-30 14.39.04 - painting of cup.png\n",
      "Desktop/DALLE.cup/DALL·E 2023-01-30 14.49.49 - cup watercolor.png\n",
      "Desktop/DALLE.cup/DALL·E 2023-01-30 14.34.49 - painting of a cup.png\n",
      "Desktop/DALLE.cup/DALL·E 2023-01-30 14.54.12 - colored pencil sketch of a cup.png\n",
      "Desktop/DALLE.cup/DALL·E 2023-01-30 14.54.05 - colored pencil sketch of a cup.png\n",
      "Desktop/DALLE.cup/DALL·E 2023-01-30 14.51.14 - drawing of a cup.png\n",
      "Desktop/DALLE.cup/DALL·E 2023-01-30 14.47.56 - sketch of a cup.png\n",
      "Desktop/DALLE.cup/DALL·E 2023-01-30 14.51.51 - acrylic painting of a cup.png\n",
      "Desktop/DALLE.cup/DALL·E 2023-01-30 14.51.35 - acrylic painting of a cup.png\n",
      "Desktop/DALLE.cup/DALL·E 2023-01-30 14.54.35 - watercolor of a cup.png\n",
      "Desktop/DALLE.cup/DALL·E 2023-01-30 14.37.24 - sketch of a cup.png\n",
      "Desktop/DALLE.cup/DALL·E 2023-01-30 14.52.52 - watercolor of a cup.png\n",
      "Desktop/DALLE.cup/DALL·E 2023-01-30 14.54.10 - colored pencil sketch of a cup.png\n",
      "Desktop/DALLE.cup/DALL·E 2023-01-30 14.48.57 - cup sketch.png\n",
      "Desktop/DALLE.cup/DALL·E 2023-01-30 14.52.32 - oil pastels painting of a cup.png\n",
      "Desktop/DALLE.cup/DALL·E 2023-01-30 14.34.29 - painting of a cup.png\n",
      "Desktop/DALLE.cup/DALL·E 2023-01-30 14.47.54 - sketch of a cup.png\n",
      "Desktop/DALLE.cup/DALL·E 2023-01-30 14.48.53 - cup sketch.png\n",
      "Desktop/DALLE.cup/DALL·E 2023-01-30 14.51.08 - drawing of a cup.png\n",
      "Desktop/DALLE.cup/DALL·E 2023-01-30 14.37.26 - sketch of a cup.png\n",
      "Desktop/DALLE.cup/DALL·E 2023-01-30 14.54.37 - watercolor of a cup.png\n",
      "Desktop/DALLE.cup/DALL·E 2023-01-30 14.49.44 - cup watercolor.png\n",
      "Desktop/DALLE.cup/DALL·E 2023-01-30 14.34.39 - painting of a cup.png\n",
      "Desktop/DALLE.cup/DALL·E 2023-01-30 14.39.07 - painting of cup.png\n",
      "Desktop/DALLE.cup/DALL·E 2023-01-30 14.47.52 - sketch of a cup.png\n",
      "Desktop/DALLE.cup/DALL·E 2023-01-30 14.34.54 - painting of a cup.png\n",
      "Desktop/DALLE.cup/DALL·E 2023-01-30 14.52.34 - oil pastels painting of a cup.png\n",
      "Desktop/DALLE.cup/DALL·E 2023-01-30 14.51.33 - acrylic painting of a cup.png\n",
      "Desktop/DALLE.cup/DALL·E 2023-01-30 14.54.30 - watercolor of a cup.png\n",
      "Desktop/DALLE.cup/DALL·E 2023-01-30 14.37.22 - sketch of a cup.png\n"
     ]
    }
   ],
   "source": [
    "m1, m2, m3, s, h, w = get_directory_info(directory)"
   ]
  },
  {
   "cell_type": "code",
   "execution_count": 5,
   "id": "e4004944",
   "metadata": {},
   "outputs": [
    {
     "name": "stdout",
     "output_type": "stream",
     "text": [
      "1860.0 2316 1110 272.9408219883796 1024 1024\n"
     ]
    }
   ],
   "source": [
    "print(m1, m2, m3, s, h, w)"
   ]
  },
  {
   "cell_type": "markdown",
   "id": "f424aa7a",
   "metadata": {},
   "source": [
    "__"
   ]
  },
  {
   "cell_type": "code",
   "execution_count": 6,
   "id": "424e2283",
   "metadata": {},
   "outputs": [],
   "source": [
    "directory = 'Desktop/Real_Artists.cup'"
   ]
  },
  {
   "cell_type": "code",
   "execution_count": 7,
   "id": "6b0711a3",
   "metadata": {},
   "outputs": [],
   "source": [
    "def get_directory_info(directory):\n",
    "    print(directory)\n",
    "    sizes = list()\n",
    "    widths = []\n",
    "    heights = []\n",
    "    \n",
    "    for filename in os.listdir(directory):\n",
    "        f = os.path.join(directory, filename)\n",
    "        #print(f)\n",
    "        if os.path.isfile(f):\n",
    "            if(f.endswith(\".png\") or f.endswith(\"jpg\") or f.endswith(\"jpeg\") or f.endswith(\"webp\")):\n",
    "               print(f) \n",
    "               size = round(os.path.getsize(f)/1023) #converts the size to kilobytes\n",
    "               sizes.append(size)\n",
    "                \n",
    "               img_path = os.path.join(f) #makes image file path\n",
    "               im = Image.open(img_path)\n",
    "               widths.append(im.size[0])\n",
    "               heights.append(im.size[1])\n",
    "\n",
    "            \n",
    "    AVG_HEIGHT = round(sum(heights)/len(heights))\n",
    "    AVG_WIDTH = round(sum(widths)/len(widths))\n",
    "    \n",
    "    return (np.mean(sizes), np.max(sizes), np.min(sizes), np.std(sizes), AVG_HEIGHT, AVG_WIDTH)"
   ]
  },
  {
   "cell_type": "code",
   "execution_count": 8,
   "id": "f53c7c3d",
   "metadata": {},
   "outputs": [
    {
     "name": "stdout",
     "output_type": "stream",
     "text": [
      "Desktop/Real_Artists.cup\n",
      "Desktop/Real_Artists.cup/s-l1600-1.jpg\n",
      "Desktop/Real_Artists.cup/Screen Shot 2023-01-30 at 2.56.28 PM.png\n",
      "Desktop/Real_Artists.cup/il_570xN.2302254190_9czp.jpg\n",
      "Desktop/Real_Artists.cup/images.jpeg\n",
      "Desktop/Real_Artists.cup/Cup-of-Joe-40.jpg\n",
      "Desktop/Real_Artists.cup/111636-charcoalcup1.jpg\n",
      "Desktop/Real_Artists.cup/s-l1600-2.jpg\n",
      "Desktop/Real_Artists.cup/ced3206aba98b5798a5c47dc34fa3070.jpg\n",
      "Desktop/Real_Artists.cup/16219f7bbac7d82c99be12d51b193f02.jpg\n",
      "Desktop/Real_Artists.cup/maxresdefault.jpg\n",
      "Desktop/Real_Artists.cup/cup-of-coffee-drawing-frank-ramspott.jpg\n",
      "Desktop/Real_Artists.cup/s-l400.jpg\n",
      "Desktop/Real_Artists.cup/b06272bc913b39f05f318a5dcc886986.jpg\n",
      "Desktop/Real_Artists.cup/8317199-IPWDGUOU-7.jpg\n",
      "Desktop/Real_Artists.cup/936e266b5fd130c00c541e7e84a1929d.jpg\n",
      "Desktop/Real_Artists.cup/464c86e3c92a294a113013f54e757f42.png\n",
      "Desktop/Real_Artists.cup/14ceb76f3d33990052227fda8cc537dd.jpg\n",
      "Desktop/Real_Artists.cup/blue-tea-cup-with-book-and-roses-small-still-life-painting-for-sale-original-art-grace-venditti.jpg\n",
      "Desktop/Real_Artists.cup/51x0zsxJsvL._SY780_.jpg\n",
      "Desktop/Real_Artists.cup/e11bda70bd1a009b2d75383e5b1e88ca.jpg\n",
      "Desktop/Real_Artists.cup/Not-my-cup-of-tea-1024x787.jpeg.optimal.jpeg\n",
      "Desktop/Real_Artists.cup/img-9664_orig.jpg\n",
      "Desktop/Real_Artists.cup/cup-awesome.jpg\n",
      "Desktop/Real_Artists.cup/9aa7b0b97ebad9254aeabbfbeff81155.jpg\n",
      "Desktop/Real_Artists.cup/f666d6a248acb4f6324176dd3d13a24a.jpg\n",
      "Desktop/Real_Artists.cup/cut0169_da91625a-630a-496c-adb6-006aafdb3393.jpg\n",
      "Desktop/Real_Artists.cup/15118535_dscn1524.jpg\n",
      "Desktop/Real_Artists.cup/12896789_art125.jpg\n",
      "Desktop/Real_Artists.cup/758b49a81ad1aa91582bc943671d2384.jpg\n",
      "Desktop/Real_Artists.cup/F3155EED-B23F-4AF3-8C6F-8258AF0CB259-1024x768.jpeg.optimal.jpeg\n",
      "Desktop/Real_Artists.cup/s-l1600.jpg\n",
      "Desktop/Real_Artists.cup/7da86c9d687cbe4cbfc15baa23c76ad2.jpg\n",
      "Desktop/Real_Artists.cup/9f1e957c5d64945391f6e8a8e6903e01.jpg\n",
      "Desktop/Real_Artists.cup/26cc3e62ec66c44da882a6ca43fd0a0b.jpg\n",
      "Desktop/Real_Artists.cup/9f045afcbaa1cc7836baa3bca3c1801e.jpg\n",
      "Desktop/Real_Artists.cup/ee0a39cd62a734c2d2a69780ec1513ff.jpg\n",
      "Desktop/Real_Artists.cup/LizSteel-158-JardinCup.jpg\n",
      "Desktop/Real_Artists.cup/12512744_red-cup.jpg\n",
      "Desktop/Real_Artists.cup/il_fullxfull.3617187921_nble.jpg\n",
      "Desktop/Real_Artists.cup/2c0aa1f0dfe1f62d5bb6e0dcd0de08cb.jpg\n",
      "Desktop/Real_Artists.cup/51g0MX+SR5L._SY780_.jpg\n",
      "Desktop/Real_Artists.cup/still-life-painting-a-cup-of-coffee-oil-painting-thumb1920.jpg\n",
      "Desktop/Real_Artists.cup/maxresdefault-1.jpg\n",
      "Desktop/Real_Artists.cup/Screen Shot 2023-01-30 at 3.02.43 PM.png\n",
      "Desktop/Real_Artists.cup/il_fullxfull.3122268921_j7ke.jpg\n"
     ]
    }
   ],
   "source": [
    "mm1, m2, m3, s, h, w = get_directory_info(directory)"
   ]
  },
  {
   "cell_type": "code",
   "execution_count": 9,
   "id": "720cd31e",
   "metadata": {},
   "outputs": [
    {
     "name": "stdout",
     "output_type": "stream",
     "text": [
      "294.15555555555557 2549 7 462.9732392340983 851 917\n"
     ]
    }
   ],
   "source": [
    "print(mm1, m2, m3, s, h, w)"
   ]
  },
  {
   "cell_type": "markdown",
   "id": "2425c003",
   "metadata": {},
   "source": [
    "__"
   ]
  },
  {
   "cell_type": "code",
   "execution_count": 10,
   "id": "f8e76085",
   "metadata": {},
   "outputs": [],
   "source": [
    "directory = 'Desktop/DALLE.dog'"
   ]
  },
  {
   "cell_type": "code",
   "execution_count": 11,
   "id": "9bcba659",
   "metadata": {},
   "outputs": [],
   "source": [
    "def get_directory_info(directory):\n",
    "    print(directory)\n",
    "    sizes = list()\n",
    "    widths = []\n",
    "    heights = []\n",
    "    \n",
    "    for filename in os.listdir(directory):\n",
    "        f = os.path.join(directory, filename)\n",
    "        #print(f)\n",
    "        if os.path.isfile(f):\n",
    "            if(f.endswith(\".png\")):\n",
    "               print(f) \n",
    "               size = round(os.path.getsize(f)/1023) #converts the size to kilobytes\n",
    "               sizes.append(size)\n",
    "                \n",
    "               img_path = os.path.join(f) #makes image file path\n",
    "               im = Image.open(img_path)\n",
    "               widths.append(im.size[0])\n",
    "               heights.append(im.size[1])\n",
    "\n",
    "            \n",
    "    AVG_HEIGHT = round(sum(heights)/len(heights))\n",
    "    AVG_WIDTH = round(sum(widths)/len(widths))\n",
    "    \n",
    "    return (np.mean(sizes), np.max(sizes), np.min(sizes), np.std(sizes), AVG_HEIGHT, AVG_WIDTH)"
   ]
  },
  {
   "cell_type": "code",
   "execution_count": 12,
   "id": "ba9a9758",
   "metadata": {},
   "outputs": [
    {
     "name": "stdout",
     "output_type": "stream",
     "text": [
      "Desktop/DALLE.dog\n",
      "Desktop/DALLE.dog/DALL·E 2023-02-07 14.00.18 - acrylic painting of dog-2.png\n",
      "Desktop/DALLE.dog/DALL·E 2023-02-07 13.52.09 - colored pencil sketch of dog.png\n",
      "Desktop/DALLE.dog/DALL·E 2023-02-07 12.17.13 - sketch of a dog .png\n",
      "Desktop/DALLE.dog/DALL·E 2023-02-07 14.04.34 - black and white painting of dog.png\n",
      "Desktop/DALLE.dog/DALL·E 2023-02-07 13.56.36 - watercolor of dog.png\n",
      "Desktop/DALLE.dog/DALL·E 2023-02-07 14.00.18 - acrylic painting of dog-3.png\n",
      "Desktop/DALLE.dog/DALL·E 2023-02-07 13.56.32 - watercolor of dog.png\n",
      "Desktop/DALLE.dog/DALL·E 2023-02-07 13.59.17 - oil pastel painting of dog.png\n",
      "Desktop/DALLE.dog/DALL·E 2023-02-07 14.02.35 - charcoal sketch of dog.png\n",
      "Desktop/DALLE.dog/DALL·E 2023-02-07 13.49.58 - painting of dog.png\n",
      "Desktop/DALLE.dog/DALL·E 2023-02-07 12.17.21 - painting of dog.png\n",
      "Desktop/DALLE.dog/DALL·E 2023-02-07 14.02.33 - charcoal sketch of dog.png\n",
      "Desktop/DALLE.dog/DALL·E 2023-02-07 13.53.40 - painting of puppy .png\n",
      "Desktop/DALLE.dog/DALL·E 2023-02-07 13.50.03 - painting of dog.png\n",
      "Desktop/DALLE.dog/DALL·E 2023-02-07 14.03.34 - colored pencil sketch of dog.png\n",
      "Desktop/DALLE.dog/DALL·E 2023-02-07 13.52.11 - colored pencil sketch of dog.png\n",
      "Desktop/DALLE.dog/DALL·E 2023-02-07 13.59.10 - oil pastel painting of dog.png\n",
      "Desktop/DALLE.dog/DALL·E 2023-02-07 14.05.26 - oil painting of dog.png\n",
      "Desktop/DALLE.dog/DALL·E 2023-02-07 14.00.18 - acrylic painting of dog.png\n",
      "Desktop/DALLE.dog/DALL·E 2023-02-07 13.50.01 - painting of dog.png\n",
      "Desktop/DALLE.dog/DALL·E 2023-02-07 13.53.38 - painting of puppy .png\n",
      "Desktop/DALLE.dog/DALL·E 2023-02-07 12.17.23 - painting of dog.png\n",
      "Desktop/DALLE.dog/DALL·E 2023-02-07 14.05.29 - oil painting of dog.png\n",
      "Desktop/DALLE.dog/DALL·E 2023-02-07 13.53.34 - painting of puppy .png\n",
      "Desktop/DALLE.dog/DALL·E 2023-02-07 14.03.32 - colored pencil sketch of dog.png\n",
      "Desktop/DALLE.dog/DALL·E 2023-02-07 13.59.12 - oil pastel painting of dog.png\n",
      "Desktop/DALLE.dog/DALL·E 2023-02-07 13.57.50 - sketch of dog in colored pencil.png\n",
      "Desktop/DALLE.dog/DALL·E 2023-02-07 13.57.53 - sketch of dog in colored pencil.png\n",
      "Desktop/DALLE.dog/DALL·E 2023-02-07 14.04.39 - black and white painting of dog.png\n",
      "Desktop/DALLE.dog/DALL·E 2023-02-07 14.00.20 - acrylic painting of dog.png\n",
      "Desktop/DALLE.dog/DALL·E 2023-02-07 13.57.54 - sketch of dog in colored pencil.png\n",
      "Desktop/DALLE.dog/DALL·E 2023-02-07 13.53.42 - painting of puppy .png\n",
      "Desktop/DALLE.dog/DALL·E 2023-02-07 13.47.03 - sketch of a dog .png\n",
      "Desktop/DALLE.dog/DALL·E 2023-02-07 13.49.59 - painting of dog.png\n",
      "Desktop/DALLE.dog/DALL·E 2023-02-07 12.17.26 - painting of dog.png\n",
      "Desktop/DALLE.dog/DALL·E 2023-02-07 14.03.31 - colored pencil sketch of dog.png\n",
      "Desktop/DALLE.dog/DALL·E 2023-02-07 14.05.32 - oil painting of dog.png\n",
      "Desktop/DALLE.dog/DALL·E 2023-02-07 14.03.28 - colored pencil sketch of dog.png\n",
      "Desktop/DALLE.dog/DALL·E 2023-02-07 12.17.08 - sketch of a dog .png\n",
      "Desktop/DALLE.dog/DALL·E 2023-02-07 13.56.34 - watercolor of dog.png\n",
      "Desktop/DALLE.dog/DALL·E 2023-02-07 13.52.13 - colored pencil sketch of dog.png\n",
      "Desktop/DALLE.dog/DALL·E 2023-02-07 13.47.01 - sketch of a dog .png\n",
      "Desktop/DALLE.dog/DALL·E 2023-02-07 13.57.49 - sketch of dog in colored pencil.png\n",
      "Desktop/DALLE.dog/DALL·E 2023-02-07 13.56.30 - watercolor of dog.png\n",
      "Desktop/DALLE.dog/DALL·E 2023-02-07 14.02.37 - charcoal sketch of dog.png\n",
      "Desktop/DALLE.dog/DALL·E 2023-02-07 12.17.18 - painting of dog.png\n",
      "Desktop/DALLE.dog/DALL·E 2023-02-07 14.02.39 - charcoal sketch of dog.png\n",
      "Desktop/DALLE.dog/DALL·E 2023-02-07 14.05.30 - oil painting of dog.png\n",
      "Desktop/DALLE.dog/DALL·E 2023-02-07 13.59.15 - oil pastel painting of dog.png\n",
      "Desktop/DALLE.dog/DALL·E 2023-02-07 13.52.07 - colored pencil sketch of dog.png\n"
     ]
    }
   ],
   "source": [
    "mmm1, m2, m3, s, h, w = get_directory_info(directory)"
   ]
  },
  {
   "cell_type": "code",
   "execution_count": 13,
   "id": "cc6f57a0",
   "metadata": {},
   "outputs": [
    {
     "name": "stdout",
     "output_type": "stream",
     "text": [
      "1910.14 2394 1441 263.8857336045281 1024 1024\n"
     ]
    }
   ],
   "source": [
    "print(mmm1, m2, m3, s, h, w)"
   ]
  },
  {
   "cell_type": "markdown",
   "id": "9e592c21",
   "metadata": {},
   "source": [
    "__"
   ]
  },
  {
   "cell_type": "code",
   "execution_count": 14,
   "id": "c6335688",
   "metadata": {},
   "outputs": [],
   "source": [
    "directory = 'Desktop/Real_Artists.dog'"
   ]
  },
  {
   "cell_type": "code",
   "execution_count": 15,
   "id": "ee9b1e5f",
   "metadata": {},
   "outputs": [],
   "source": [
    "def get_directory_info(directory):\n",
    "    print(directory)\n",
    "    sizes = list()\n",
    "    widths = []\n",
    "    heights = []\n",
    "    \n",
    "    for filename in os.listdir(directory):\n",
    "        f = os.path.join(directory, filename)\n",
    "        #print(f)\n",
    "        if os.path.isfile(f):\n",
    "            if(f.endswith(\".png\") or f.endswith(\"jpg\") or f.endswith(\"jpeg\") or f.endswith(\"webp\")):\n",
    "               print(f) \n",
    "               size = round(os.path.getsize(f)/1023) #converts the size to kilobytes\n",
    "               sizes.append(size)\n",
    "                \n",
    "               img_path = os.path.join(f) #makes image file path\n",
    "               im = Image.open(img_path)\n",
    "               widths.append(im.size[0])\n",
    "               heights.append(im.size[1])\n",
    "\n",
    "            \n",
    "    AVG_HEIGHT = round(sum(heights)/len(heights))\n",
    "    AVG_WIDTH = round(sum(widths)/len(widths))\n",
    "    \n",
    "    return (np.mean(sizes), np.max(sizes), np.min(sizes), np.std(sizes), AVG_HEIGHT, AVG_WIDTH)"
   ]
  },
  {
   "cell_type": "code",
   "execution_count": 16,
   "id": "ef3a45ec",
   "metadata": {
    "scrolled": false
   },
   "outputs": [
    {
     "name": "stdout",
     "output_type": "stream",
     "text": [
      "Desktop/Real_Artists.dog\n",
      "Desktop/Real_Artists.dog/427ddc30b867f137b4fc9ea95018a481.jpg\n",
      "Desktop/Real_Artists.dog/Maisa+4+Attempt.jpg\n",
      "Desktop/Real_Artists.dog/Ringo+Kendra+Aldrich.jpg\n",
      "Desktop/Real_Artists.dog/DogPainting-1280x720.jpg\n",
      "Desktop/Real_Artists.dog/image-asset.jpeg\n",
      "Desktop/Real_Artists.dog/4c96909d0d7a47146143e8c8f75eb91b.jpg\n",
      "Desktop/Real_Artists.dog/Sofa_Sunday.jpg.optimal.jpg\n",
      "Desktop/Real_Artists.dog/24a46751b68d78c9913dc9eeef5dd019.jpg\n",
      "Desktop/Real_Artists.dog/dogs-pencil-white_boxer-01118_af14e3ef-2c93-429d-8072-79c652ce36b7.jpg\n",
      "Desktop/Real_Artists.dog/f6fccc02355e571759148559ccb56c84.jpg\n",
      "Desktop/Real_Artists.dog/black-and-white-pit-debra-jones.jpg\n",
      "Desktop/Real_Artists.dog/How-to-Draw-a-Dog.jpg\n",
      "Desktop/Real_Artists.dog/additional_1814069c59d90a0924421d57f238b980b9e9c463-AICC2-8.jpg\n",
      "Desktop/Real_Artists.dog/bd7ba9a9aee86d9e5020ee51839549b5.jpg\n",
      "Desktop/Real_Artists.dog/black-and-white-dog-watercolor-by-adam-asar-adam-asar.jpg\n",
      "Desktop/Real_Artists.dog/0025902c87a252504cd65f90da842d1f.jpg\n",
      "Desktop/Real_Artists.dog/KallieFINALpainting.jpg\n",
      "Desktop/Real_Artists.dog/youth-lucie-bilodeau.jpg\n",
      "Desktop/Real_Artists.dog/Wild-Dog_Full-portrait.jpg\n",
      "Desktop/Real_Artists.dog/il_fullxfull.1687819932_gbqx.jpg\n",
      "Desktop/Real_Artists.dog/1043375-HSC00001-7.jpg\n",
      "Desktop/Real_Artists.dog/Screen Shot 2023-02-07 at 12.13.04 PM.png\n",
      "Desktop/Real_Artists.dog/060764fc6185a19fc066e92211c0d04f.jpg\n",
      "Desktop/Real_Artists.dog/16a5c360eb6074a90a3999e2004bb55f.jpg\n",
      "Desktop/Real_Artists.dog/6cdd0cab85b6a5f7de8982ae089f7da1.jpg\n",
      "Desktop/Real_Artists.dog/c763ce3ae4c905ebc461de7f57f2555f--colored-pencil-drawings-coloured-pencils.jpg\n",
      "Desktop/Real_Artists.dog/DOG-3.jpg\n",
      "Desktop/Real_Artists.dog/50bd886060705f9588889d6b3d8b16e1.jpg\n",
      "Desktop/Real_Artists.dog/3e71bf1d64ca544665ac71f84ea06ade.jpg\n",
      "Desktop/Real_Artists.dog/puppy_portrait___colored_pencil_drawing_by_jasminasusak_d8muke6-fullview.jpg\n",
      "Desktop/Real_Artists.dog/9f03ddb8b9f0fda6acc6f9d037aa80bf.jpg\n",
      "Desktop/Real_Artists.dog/90e3158f05b5ca1c54718ddb6510507a.jpg\n",
      "Desktop/Real_Artists.dog/Screen Shot 2023-02-07 at 1.36.51 PM.png\n",
      "Desktop/Real_Artists.dog/222_5945_Bamsi.jpg\n",
      "Desktop/Real_Artists.dog/big-thumb-2020-02-18-WgaMfT3rE2H1e5STmDwWVriuG5p_TEzCkavQQLjyynxExSE5xLehK2CI-GyUIf9FpouQ-R1HOrh_OZoI.jpg\n",
      "Desktop/Real_Artists.dog/ffce85a9f2bcd4513feaa305bee770d9.jpg\n",
      "Desktop/Real_Artists.dog/9bc4aaaa7fd0ddfbd4d24131a1d22188.jpg\n",
      "Desktop/Real_Artists.dog/IMG_8085.jpg\n",
      "Desktop/Real_Artists.dog/IMG_5163.jpg\n",
      "Desktop/Real_Artists.dog/dog-watercolor.jpg\n",
      "Desktop/Real_Artists.dog/820bc8d395b3a141840d2c407c02679c.jpg\n",
      "Desktop/Real_Artists.dog/6a00d8341c421d53ef0133f588b7ab970b.jpg\n",
      "Desktop/Real_Artists.dog/fa7ffb75d3f227e86171003113a26bd3.jpg\n",
      "Desktop/Real_Artists.dog/c8fa9539a3230d4196407e2ddc4325a0.jpg\n"
     ]
    }
   ],
   "source": [
    "mmmm1, m2, m3, s, h, w = get_directory_info(directory)"
   ]
  },
  {
   "cell_type": "code",
   "execution_count": 17,
   "id": "9479bcb9",
   "metadata": {},
   "outputs": [
    {
     "name": "stdout",
     "output_type": "stream",
     "text": [
      "263.8636363636364 1358 12 342.67985263939676 986 909\n"
     ]
    }
   ],
   "source": [
    "print(mmmm1, m2, m3, s, h, w)"
   ]
  },
  {
   "cell_type": "markdown",
   "id": "f5c0bd62",
   "metadata": {},
   "source": [
    "__"
   ]
  },
  {
   "cell_type": "code",
   "execution_count": 18,
   "id": "5ab141b3",
   "metadata": {},
   "outputs": [],
   "source": [
    "directory = 'Desktop/DALLE.fruits'"
   ]
  },
  {
   "cell_type": "code",
   "execution_count": 19,
   "id": "95a97631",
   "metadata": {},
   "outputs": [],
   "source": [
    "def get_directory_info(directory):\n",
    "    print(directory)\n",
    "    sizes = list()\n",
    "    widths = []\n",
    "    heights = []\n",
    "    \n",
    "    for filename in os.listdir(directory):\n",
    "        f = os.path.join(directory, filename)\n",
    "        #print(f)\n",
    "        if os.path.isfile(f):\n",
    "            if(f.endswith(\".png\")):\n",
    "               print(f) \n",
    "               size = round(os.path.getsize(f)/1023) #converts the size to kilobytes\n",
    "               sizes.append(size)\n",
    "                \n",
    "               img_path = os.path.join(f) #makes image file path\n",
    "               im = Image.open(img_path)\n",
    "               widths.append(im.size[0])\n",
    "               heights.append(im.size[1])\n",
    "\n",
    "            \n",
    "    AVG_HEIGHT = round(sum(heights)/len(heights))\n",
    "    AVG_WIDTH = round(sum(widths)/len(widths))\n",
    "    \n",
    "    return (np.mean(sizes), np.max(sizes), np.min(sizes), np.std(sizes), AVG_HEIGHT, AVG_WIDTH)"
   ]
  },
  {
   "cell_type": "code",
   "execution_count": 20,
   "id": "d19cc7e7",
   "metadata": {},
   "outputs": [
    {
     "name": "stdout",
     "output_type": "stream",
     "text": [
      "Desktop/DALLE.fruits\n",
      "Desktop/DALLE.fruits/DALL·E 2023-02-16 17.12.59 - acrylic painting of fruit.png\n",
      "Desktop/DALLE.fruits/DALL·E 2023-02-16 17.07.40 - painting of an apple.png\n",
      "Desktop/DALLE.fruits/DALL·E 2023-02-16 17.10.39 - oil painting of a tangerine.png\n",
      "Desktop/DALLE.fruits/DALL·E 2023-02-16 17.14.46 - oil painting of cherries.png\n",
      "Desktop/DALLE.fruits/DALL·E 2023-02-16 17.07.59 - painting of a banana.png\n",
      "Desktop/DALLE.fruits/DALL·E 2023-02-16 17.11.08 - acrylic painting of blueberries.png\n",
      "Desktop/DALLE.fruits/DALL·E 2023-02-16 17.07.38 - painting of an apple.png\n",
      "Desktop/DALLE.fruits/DALL·E 2023-02-16 17.10.01 - colored pencil sketch of fruit.png\n",
      "Desktop/DALLE.fruits/DALL·E 2023-02-16 17.15.27 - oil painting of fruit.png\n",
      "Desktop/DALLE.fruits/DALL·E 2023-02-16 17.14.15 - charcoal sketch of fruit.png\n",
      "Desktop/DALLE.fruits/DALL·E 2023-02-16 17.11.39 - acrylic painting of raspberries.png\n",
      "Desktop/DALLE.fruits/DALL·E 2023-02-16 17.14.19 - charcoal sketch of fruit.png\n",
      "Desktop/DALLE.fruits/DALL·E 2023-02-16 17.11.12 - acrylic painting of blueberries.png\n",
      "Desktop/DALLE.fruits/DALL·E 2023-02-16 17.07.35 - painting of an apple.png\n",
      "Desktop/DALLE.fruits/DALL·E 2023-02-16 17.11.10 - acrylic painting of blueberries.png\n",
      "Desktop/DALLE.fruits/DALL·E 2023-02-16 17.15.29 - oil painting of fruit.png\n",
      "Desktop/DALLE.fruits/DALL·E 2023-02-16 17.13.23 - acrylic painting of cherries.png\n",
      "Desktop/DALLE.fruits/DALL·E 2023-02-16 17.12.57 - acrylic painting of fruit.png\n",
      "Desktop/DALLE.fruits/DALL·E 2023-02-16 17.10.35 - oil painting of a tangerine.png\n",
      "Desktop/DALLE.fruits/DALL·E 2023-02-16 17.09.26 - sketch of an apple.png\n",
      "Desktop/DALLE.fruits/DALL·E 2023-02-16 17.11.14 - acrylic painting of blueberries.png\n",
      "Desktop/DALLE.fruits/DALL·E 2023-02-16 17.09.58 - colored pencil sketch of fruit.png\n",
      "Desktop/DALLE.fruits/DALL·E 2023-02-16 17.08.55 - watercolor of grapes.png\n",
      "Desktop/DALLE.fruits/DALL·E 2023-02-16 17.14.14 - charcoal sketch of fruit.png\n",
      "Desktop/DALLE.fruits/DALL·E 2023-02-16 17.10.37 - oil painting of a tangerine.png\n",
      "Desktop/DALLE.fruits/DALL·E 2023-02-16 17.13.25 - acrylic painting of cherries.png\n",
      "Desktop/DALLE.fruits/DALL·E 2023-02-16 17.09.30 - sketch of an apple.png\n",
      "Desktop/DALLE.fruits/DALL·E 2023-02-16 17.13.03 - acrylic painting of fruit.png\n",
      "Desktop/DALLE.fruits/DALL·E 2023-02-16 17.12.28 - acrylic painting of a banana.png\n",
      "Desktop/DALLE.fruits/DALL·E 2023-02-16 17.08.03 - painting of a banana.png\n",
      "Desktop/DALLE.fruits/DALL·E 2023-02-16 17.15.30 - oil painting of fruit.png\n",
      "Desktop/DALLE.fruits/DALL·E 2023-02-16 17.12.26 - acrylic painting of a banana.png\n",
      "Desktop/DALLE.fruits/DALL·E 2023-02-16 17.14.48 - oil painting of cherries.png\n",
      "Desktop/DALLE.fruits/DALL·E 2023-02-16 17.14.42 - oil painting of cherries.png\n",
      "Desktop/DALLE.fruits/DALL·E 2023-02-16 17.13.20 - acrylic painting of cherries.png\n",
      "Desktop/DALLE.fruits/DALL·E 2023-02-16 17.14.44 - oil painting of cherries.png\n",
      "Desktop/DALLE.fruits/DALL·E 2023-02-16 17.09.28 - sketch of an apple.png\n",
      "Desktop/DALLE.fruits/DALL·E 2023-02-16 17.11.32 - acrylic painting of raspberries.png\n",
      "Desktop/DALLE.fruits/DALL·E 2023-02-16 17.11.30 - acrylic painting of raspberries.png\n",
      "Desktop/DALLE.fruits/DALL·E 2023-02-16 17.08.57 - watercolor of grapes.png\n",
      "Desktop/DALLE.fruits/DALL·E 2023-02-16 17.08.01 - painting of a banana.png\n",
      "Desktop/DALLE.fruits/DALL·E 2023-02-16 17.12.32 - acrylic painting of a banana.png\n",
      "Desktop/DALLE.fruits/DALL·E 2023-02-16 17.14.17 - charcoal sketch of fruit.png\n",
      "Desktop/DALLE.fruits/DALL·E 2023-02-16 17.11.35 - acrylic painting of raspberries.png\n",
      "Desktop/DALLE.fruits/DALL·E 2023-02-16 17.09.01 - watercolor of grapes.png\n",
      "Desktop/DALLE.fruits/DALL·E 2023-02-16 17.13.01 - acrylic painting of fruit.png\n",
      "Desktop/DALLE.fruits/DALL·E 2023-02-16 17.13.21 - acrylic painting of cherries.png\n",
      "Desktop/DALLE.fruits/DALL·E 2023-02-16 17.09.00 - watercolor of grapes.png\n",
      "Desktop/DALLE.fruits/DALL·E 2023-02-16 17.15.32 - oil painting of fruit.png\n",
      "Desktop/DALLE.fruits/DALL·E 2023-02-16 17.07.36 - painting of an apple.png\n",
      "Desktop/DALLE.fruits/DALL·E 2023-02-16 17.10.02 - colored pencil sketch of fruit.png\n",
      "Desktop/DALLE.fruits/DALL·E 2023-02-16 17.09.25 - sketch of an apple.png\n",
      "Desktop/DALLE.fruits/DALL·E 2023-02-16 17.10.41 - oil painting of a tangerine.png\n",
      "Desktop/DALLE.fruits/DALL·E 2023-02-16 17.10.05 - colored pencil sketch of fruit.png\n"
     ]
    }
   ],
   "source": [
    "mmmmm1, m2, m3, s, h, w = get_directory_info(directory)"
   ]
  },
  {
   "cell_type": "code",
   "execution_count": 21,
   "id": "6ca0b357",
   "metadata": {},
   "outputs": [
    {
     "name": "stdout",
     "output_type": "stream",
     "text": [
      "1885.148148148148 2497 1312 206.11021929193768 1024 1024\n"
     ]
    }
   ],
   "source": [
    "print(mmmmm1, m2, m3, s, h, w)"
   ]
  },
  {
   "cell_type": "markdown",
   "id": "378c2ddc",
   "metadata": {},
   "source": [
    "__"
   ]
  },
  {
   "cell_type": "code",
   "execution_count": 22,
   "id": "50542638",
   "metadata": {},
   "outputs": [],
   "source": [
    "directory = 'Desktop/Real_Artists.fruits'"
   ]
  },
  {
   "cell_type": "code",
   "execution_count": 23,
   "id": "e11ff5d4",
   "metadata": {},
   "outputs": [],
   "source": [
    "def get_directory_info(directory):\n",
    "    print(directory)\n",
    "    sizes = list()\n",
    "    widths = []\n",
    "    heights = []\n",
    "    \n",
    "    for filename in os.listdir(directory):\n",
    "        f = os.path.join(directory, filename)\n",
    "        #print(f)\n",
    "        if os.path.isfile(f):\n",
    "            if(f.endswith(\".png\")or f.endswith(\"jpg\") or f.endswith(\"jpeg\")):\n",
    "               print(f) \n",
    "               size = round(os.path.getsize(f)/1023) #converts the size to kilobytes\n",
    "               sizes.append(size)\n",
    "                \n",
    "               img_path = os.path.join(f) #makes image file path\n",
    "               im = Image.open(img_path)\n",
    "               widths.append(im.size[0])\n",
    "               heights.append(im.size[1])\n",
    "\n",
    "            \n",
    "    AVG_HEIGHT = round(sum(heights)/len(heights))\n",
    "    AVG_WIDTH = round(sum(widths)/len(widths))\n",
    "    \n",
    "    return (np.mean(sizes), np.max(sizes), np.min(sizes), np.std(sizes), AVG_HEIGHT, AVG_WIDTH)"
   ]
  },
  {
   "cell_type": "code",
   "execution_count": 24,
   "id": "f1587976",
   "metadata": {},
   "outputs": [
    {
     "name": "stdout",
     "output_type": "stream",
     "text": [
      "Desktop/Real_Artists.fruits\n",
      "Desktop/Real_Artists.fruits/31990e9dd056d382cf719f29faaa5346.jpg\n",
      "Desktop/Real_Artists.fruits/2932487-HSC00001-7.jpg\n",
      "Desktop/Real_Artists.fruits/11e6e9f46c4b863bb22f303683caa327.jpg\n",
      "Desktop/Real_Artists.fruits/f4a54af2ad4d18c0be6201dafef2b98f.jpg\n",
      "Desktop/Real_Artists.fruits/tangerine-painting.jpg\n",
      "Desktop/Real_Artists.fruits/36b6825154c5b206c47ae674d1e17efb.jpg\n",
      "Desktop/Real_Artists.fruits/il_fullxfull.2273105231_rzyf.jpg\n",
      "Desktop/Real_Artists.fruits/luscious-cherries-toni-grote.jpg\n",
      "Desktop/Real_Artists.fruits/324dc12b549929809e3c86a0b26cbb52.jpg\n",
      "Desktop/Real_Artists.fruits/Raspberries-Levi-Wells-Prentice-oil-painting.jpg\n",
      "Desktop/Real_Artists.fruits/c18c0a61d6af2d108fc3e99cf5727c2e.jpg\n",
      "Desktop/Real_Artists.fruits/52ac64436f5669c6730d1383151a596d.jpg\n",
      "Desktop/Real_Artists.fruits/b64c68073775465536602619bf2bce8b.jpg\n",
      "Desktop/Real_Artists.fruits/maxresdefault.jpg\n",
      "Desktop/Real_Artists.fruits/c5180afce120e57904d0a6c81e614a3f.jpg\n",
      "Desktop/Real_Artists.fruits/7655072-HSC00002-7.jpg\n",
      "Desktop/Real_Artists.fruits/a-bunch-of-blackberries-irina-sztukowski.jpg\n",
      "Desktop/Real_Artists.fruits/6139f88a9e0bcb29192d65df7f059f9e--fruit-painting-painting-art.jpg\n",
      "Desktop/Real_Artists.fruits/cad11b707434bfcc8cc8df7bb380f024.jpg\n",
      "Desktop/Real_Artists.fruits/fresh-tangerine-slices-theresa-shelton.jpg\n",
      "Desktop/Real_Artists.fruits/ec1b200120e14b714dec61c6e415f72a.jpg\n",
      "Desktop/Real_Artists.fruits/13035095_img-3566.jpg\n",
      "Desktop/Real_Artists.fruits/70ccea4d127e48c0a45763580a3125a8.jpg\n",
      "Desktop/Real_Artists.fruits/6506505-HSC00002-7.jpg\n",
      "Desktop/Real_Artists.fruits/2-cherries-irina-sztukowski.jpg\n",
      "Desktop/Real_Artists.fruits/5556235-HSC00002-7.jpg\n",
      "Desktop/Real_Artists.fruits/88b0ec6aec056167417426386e832007.jpg\n",
      "Desktop/Real_Artists.fruits/2429782-HSC00001-7.jpg\n",
      "Desktop/Real_Artists.fruits/a78b82aa93c1544c4fc356b7aa99d921.jpg\n",
      "Desktop/Real_Artists.fruits/15246_f6a8a8c25be2bda34034215a3b69ad7a.jpeg\n",
      "Desktop/Real_Artists.fruits/piece-of-watermelon-valerie-lazareva.jpg\n",
      "Desktop/Real_Artists.fruits/Apple-with-Leaf-Introductory-CR-720h60.jpg\n",
      "Desktop/Real_Artists.fruits/e67dd67f0865051ba7a2a0d7fb4e2469.jpg\n",
      "Desktop/Real_Artists.fruits/5787bcc8ffa0cb842fe498fb1429c0c3.jpg\n",
      "Desktop/Real_Artists.fruits/7308927-HSC00001-7.jpg\n",
      "Desktop/Real_Artists.fruits/05_02_22_oil_threebananas_5x7_7de673d6-e97f-4ff8-b9b7-d359b9a000af_1024x1024.jpg\n",
      "Desktop/Real_Artists.fruits/bfe9019a70227fb972a31248d30c025d.jpg\n",
      "Desktop/Real_Artists.fruits/2221625de1bb9d16f9eed5516579731d.jpg\n",
      "Desktop/Real_Artists.fruits/blueberries-glen-frear.jpg\n",
      "Desktop/Real_Artists.fruits/3238c5b749483e38141ef1f684fbf003.jpg\n",
      "Desktop/Real_Artists.fruits/08e91c56282a7d20a65393c3abff5c33.jpg\n",
      "Desktop/Real_Artists.fruits/4942677-HSC00001-7.jpg\n",
      "Desktop/Real_Artists.fruits/7e5eb590f2596ed56c58fca8134aff81.jpg\n",
      "Desktop/Real_Artists.fruits/1139961-HSC00001-7.jpg\n",
      "Desktop/Real_Artists.fruits/three-cherries-watercolor-painting-irina-sztukowski.jpg\n",
      "Desktop/Real_Artists.fruits/fb7d6f0536b4ff1a2de8515f74a4c5e9.jpg\n",
      "Desktop/Real_Artists.fruits/Bananas_Sm.jpg\n"
     ]
    }
   ],
   "source": [
    "mmmmmm1, m2, m3, s, h, w = get_directory_info(directory)"
   ]
  },
  {
   "cell_type": "code",
   "execution_count": 25,
   "id": "672acf67",
   "metadata": {},
   "outputs": [
    {
     "name": "stdout",
     "output_type": "stream",
     "text": [
      "147.4255319148936 1317 14 240.71133455274574 766 782\n"
     ]
    }
   ],
   "source": [
    "print(mmmmmm1, m2, m3, s, h, w)"
   ]
  },
  {
   "cell_type": "markdown",
   "id": "7a4c70f4",
   "metadata": {},
   "source": [
    "__"
   ]
  },
  {
   "cell_type": "code",
   "execution_count": 26,
   "id": "a8219ac1",
   "metadata": {},
   "outputs": [],
   "source": [
    "directory = 'Desktop/DALLE.house'"
   ]
  },
  {
   "cell_type": "code",
   "execution_count": 27,
   "id": "949861a7",
   "metadata": {},
   "outputs": [],
   "source": [
    "def get_directory_info(directory):\n",
    "    print(directory)\n",
    "    sizes = list()\n",
    "    widths = []\n",
    "    heights = []\n",
    "    \n",
    "    for filename in os.listdir(directory):\n",
    "        f = os.path.join(directory, filename)\n",
    "        #print(f)\n",
    "        if os.path.isfile(f):\n",
    "            if(f.endswith(\".png\")):\n",
    "               print(f) \n",
    "               size = round(os.path.getsize(f)/1023) #converts the size to kilobytes\n",
    "               sizes.append(size)\n",
    "                \n",
    "               img_path = os.path.join(f) #makes image file path\n",
    "               im = Image.open(img_path)\n",
    "               widths.append(im.size[0])\n",
    "               heights.append(im.size[1])\n",
    "\n",
    "            \n",
    "    AVG_HEIGHT = round(sum(heights)/len(heights))\n",
    "    AVG_WIDTH = round(sum(widths)/len(widths))\n",
    "    \n",
    "    return (np.mean(sizes), np.max(sizes), np.min(sizes), np.std(sizes), AVG_HEIGHT, AVG_WIDTH)"
   ]
  },
  {
   "cell_type": "code",
   "execution_count": 28,
   "id": "26088c2b",
   "metadata": {},
   "outputs": [
    {
     "name": "stdout",
     "output_type": "stream",
     "text": [
      "Desktop/DALLE.house\n",
      "Desktop/DALLE.house/DALL·E 2023-02-16 16.05.40 - watercolor of a house.png\n",
      "Desktop/DALLE.house/DALL·E 2023-02-16 16.03.03 - oil painting of a house.png\n",
      "Desktop/DALLE.house/DALL·E 2023-02-16 16.06.31 - acrylic painting of a house.png\n",
      "Desktop/DALLE.house/DALL·E 2023-02-16 16.07.42 - black and white painting of a house.png\n",
      "Desktop/DALLE.house/DALL·E 2023-02-16 16.01.42 - acrylic painting of a house.png\n",
      "Desktop/DALLE.house/DALL·E 2023-02-16 16.05.45 - watercolor of a house.png\n",
      "Desktop/DALLE.house/DALL·E 2023-02-16 16.08.25 - watercolor of a house on a hill.png\n",
      "Desktop/DALLE.house/DALL·E 2023-02-16 16.08.24 - watercolor of a house on a hill.png\n",
      "Desktop/DALLE.house/DALL·E 2023-02-16 16.01.40 - acrylic painting of a house.png\n",
      "Desktop/DALLE.house/DALL·E 2023-02-16 16.08.21 - watercolor of a house on a hill.png\n",
      "Desktop/DALLE.house/DALL·E 2023-02-16 16.04.55 - sketch of a house.png\n",
      "Desktop/DALLE.house/DALL·E 2023-02-16 16.09.19 - oil painting of a house.png\n",
      "Desktop/DALLE.house/DALL·E 2023-02-16 16.01.47 - watercolor house painting.png\n",
      "Desktop/DALLE.house/DALL·E 2023-02-16 16.07.45 - black and white painting of a house.png\n",
      "Desktop/DALLE.house/DALL·E 2023-02-16 16.05.11 - colored pencil sketch of a house.png\n",
      "Desktop/DALLE.house/DALL·E 2023-02-16 16.01.53 - watercolor house painting.png\n",
      "Desktop/DALLE.house/DALL·E 2023-02-16 16.03.05 - oil painting of a house.png\n",
      "Desktop/DALLE.house/DALL·E 2023-02-16 16.01.49 - watercolor house painting.png\n",
      "Desktop/DALLE.house/DALL·E 2023-02-16 16.09.17 - oil painting of a house.png\n",
      "Desktop/DALLE.house/DALL·E 2023-02-16 16.05.18 - colored pencil sketch of a house.png\n",
      "Desktop/DALLE.house/DALL·E 2023-02-16 16.03.53 - charcoal house sketch.png\n",
      "Desktop/DALLE.house/DALL·E 2023-02-16 16.04.48 - sketch of a house.png\n",
      "Desktop/DALLE.house/DALL·E 2023-02-16 16.07.40 - black and white painting of a house.png\n",
      "Desktop/DALLE.house/DALL·E 2023-02-16 16.06.25 - acrylic painting of a house.png\n",
      "Desktop/DALLE.house/DALL·E 2023-02-16 16.03.55 - charcoal house sketch.png\n",
      "Desktop/DALLE.house/DALL·E 2023-02-16 16.08.05 - walercolor of a house on a hill.png\n",
      "Desktop/DALLE.house/DALL·E 2023-02-16 16.06.27 - acrylic painting of a house.png\n",
      "Desktop/DALLE.house/DALL·E 2023-02-16 16.01.36 - acrylic painting of a house.png\n",
      "Desktop/DALLE.house/DALL·E 2023-02-16 16.03.01 - oil painting of a house.png\n",
      "Desktop/DALLE.house/DALL·E 2023-02-16 16.08.28 - watercolor of a house on a hill.png\n",
      "Desktop/DALLE.house/DALL·E 2023-02-16 16.08.06 - walercolor of a house on a hill.png\n",
      "Desktop/DALLE.house/DALL·E 2023-02-16 16.09.13 - oil painting of a house.png\n",
      "Desktop/DALLE.house/DALL·E 2023-02-16 16.08.01 - walercolor of a house on a hill.png\n",
      "Desktop/DALLE.house/DALL·E 2023-02-16 16.06.46 - walercolor of a house.png\n",
      "Desktop/DALLE.house/DALL·E 2023-02-16 16.03.49 - charcoal house sketch.png\n",
      "Desktop/DALLE.house/DALL·E 2023-02-16 16.08.03 - walercolor of a house on a hill.png\n",
      "Desktop/DALLE.house/DALL·E 2023-02-16 16.05.47 - watercolor of a house.png\n",
      "Desktop/DALLE.house/DALL·E 2023-02-16 16.06.29 - acrylic painting of a house.png\n",
      "Desktop/DALLE.house/DALL·E 2023-02-16 16.01.38 - acrylic painting of a house.png\n",
      "Desktop/DALLE.house/DALL·E 2023-02-16 16.05.13 - colored pencil sketch of a house.png\n",
      "Desktop/DALLE.house/DALL·E 2023-02-16 16.06.48 - walercolor of a house.png\n",
      "Desktop/DALLE.house/DALL·E 2023-02-16 16.03.07 - oil painting of a house.png\n",
      "Desktop/DALLE.house/DALL·E 2023-02-16 16.03.51 - charcoal house sketch.png\n",
      "Desktop/DALLE.house/DALL·E 2023-02-16 16.04.53 - sketch of a house.png\n",
      "Desktop/DALLE.house/DALL·E 2023-02-16 16.06.51 - walercolor of a house.png\n",
      "Desktop/DALLE.house/DALL·E 2023-02-16 16.05.15 - colored pencil sketch of a house.png\n",
      "Desktop/DALLE.house/DALL·E 2023-02-16 16.06.54 - walercolor of a house.png\n",
      "Desktop/DALLE.house/DALL·E 2023-02-16 16.04.58 - sketch of a house.png\n",
      "Desktop/DALLE.house/DALL·E 2023-02-16 16.01.51 - watercolor house painting.png\n",
      "Desktop/DALLE.house/DALL·E 2023-02-16 16.05.43 - watercolor of a house.png\n"
     ]
    }
   ],
   "source": [
    "mmmmmmm1, m2, m3, s, h, w = get_directory_info(directory)"
   ]
  },
  {
   "cell_type": "code",
   "execution_count": 29,
   "id": "11128b58",
   "metadata": {},
   "outputs": [
    {
     "name": "stdout",
     "output_type": "stream",
     "text": [
      "1919.46 2456 1344 189.55265337103566 1024 1024\n"
     ]
    }
   ],
   "source": [
    "print(mmmmmmm1, m2, m3, s, h, w)"
   ]
  },
  {
   "cell_type": "markdown",
   "id": "d8a40c1b",
   "metadata": {},
   "source": [
    "__"
   ]
  },
  {
   "cell_type": "code",
   "execution_count": 30,
   "id": "dde8d99f",
   "metadata": {},
   "outputs": [],
   "source": [
    "directory = 'Desktop/Real_Artists.house'"
   ]
  },
  {
   "cell_type": "code",
   "execution_count": 31,
   "id": "2c24d90d",
   "metadata": {},
   "outputs": [],
   "source": [
    "def get_directory_info(directory):\n",
    "    print(directory)\n",
    "    sizes = list()\n",
    "    widths = []\n",
    "    heights = []\n",
    "    \n",
    "    for filename in os.listdir(directory):\n",
    "        f = os.path.join(directory, filename)\n",
    "        #print(f)\n",
    "        if os.path.isfile(f):\n",
    "            if(f.endswith(\".png\") or f.endswith(\"jpg\") or f.endswith(\"jpeg\") or f.endswith(\"webp\")):\n",
    "               print(f) \n",
    "               size = round(os.path.getsize(f)/1023) #converts the size to kilobytes\n",
    "               sizes.append(size)\n",
    "                \n",
    "               img_path = os.path.join(f) #makes image file path\n",
    "               im = Image.open(img_path)\n",
    "               widths.append(im.size[0])\n",
    "               heights.append(im.size[1])\n",
    "\n",
    "            \n",
    "    AVG_HEIGHT = round(sum(heights)/len(heights))\n",
    "    AVG_WIDTH = round(sum(widths)/len(widths))\n",
    "    \n",
    "    return (np.mean(sizes), np.max(sizes), np.min(sizes), np.std(sizes), AVG_HEIGHT, AVG_WIDTH)"
   ]
  },
  {
   "cell_type": "code",
   "execution_count": 32,
   "id": "a894393e",
   "metadata": {},
   "outputs": [
    {
     "name": "stdout",
     "output_type": "stream",
     "text": [
      "Desktop/Real_Artists.house\n",
      "Desktop/Real_Artists.house/8836fbb23f9f8b64ea497c7343ecdf90.jpg\n",
      "Desktop/Real_Artists.house/img_2993.jpg\n",
      "Desktop/Real_Artists.house/d3923ff0c146ca9e95b16f0736314830.jpg\n",
      "Desktop/Real_Artists.house/dfed7129d63060c4336095a338f369cf.jpg\n",
      "Desktop/Real_Artists.house/98a6d6218992c6335d374150bf2d4b99.jpg\n",
      "Desktop/Real_Artists.house/f1d9a583c38ed50cfa31b8dd045dd532.jpg\n",
      "Desktop/Real_Artists.house/IMG-3378_grande.jpg\n",
      "Desktop/Real_Artists.house/8232688D-E335-4B4D-A9D7-82CE194FF5CA.jpeg\n",
      "Desktop/Real_Artists.house/21628978e12a890912a07866d2eaa87e.jpg\n",
      "Desktop/Real_Artists.house/f5e569b80cef2e9663840f227441ad96.jpg\n",
      "Desktop/Real_Artists.house/adorable-cottage-leisa-575.jpg\n",
      "Desktop/Real_Artists.house/watercolor_BillP.jpg\n",
      "Desktop/Real_Artists.house/2a28_1559728555060519.jpg\n",
      "Desktop/Real_Artists.house/house+portrait.jpg\n",
      "Desktop/Real_Artists.house/2a28_1559728555060519-1.jpg\n",
      "Desktop/Real_Artists.house/b1fb0021196e8dedc86a330264d44e65.jpg\n",
      "Desktop/Real_Artists.house/blue-caribbean-house-karin-best.jpg\n",
      "Desktop/Real_Artists.house/custom-house-portrait-watercolor-house-painting.jpg\n",
      "Desktop/Real_Artists.house/a25428467f4e21c7626ec9b60b33a598.jpg\n",
      "Desktop/Real_Artists.house/house.jpg\n",
      "Desktop/Real_Artists.house/Sentimental-Gifts-House-portrait.jpg\n",
      "Desktop/Real_Artists.house/Beautiful+old+Beach+House+Forgotten+Coast+11x14+$1600..jpg\n",
      "Desktop/Real_Artists.house/523d6ffb30d3b6c156a238e953b2eaf8.jpg\n",
      "Desktop/Real_Artists.house/720489b6c3f8e19402f4f3ab79390794.jpg\n",
      "Desktop/Real_Artists.house/b-s122_1574609731112419.jpg\n",
      "Desktop/Real_Artists.house/shellys_with_dog_3.jpg\n",
      "Desktop/Real_Artists.house/616c9fa67c154a058a89a3758063dd2b.jpg\n",
      "Desktop/Real_Artists.house/custom-house-portrait-leisa.jpg\n",
      "Desktop/Real_Artists.house/1f64d33ef811cf9a5f566cfabc5a9c97.jpg\n",
      "Desktop/Real_Artists.house/161dd9273e254de4bb21f3faef972014-superJumbo.jpg\n",
      "Desktop/Real_Artists.house/eastcoastcottage8x11300-1106x800.jpg\n",
      "Desktop/Real_Artists.house/e620f4af34e6bfff28a48391efaa85f2.jpg\n",
      "Desktop/Real_Artists.house/1e71_1559653155060419.jpg\n",
      "Desktop/Real_Artists.house/ba74b1106aeafa302e18f56b99e08f70.jpg\n",
      "Desktop/Real_Artists.house/HousebythHarbor_l.jpeg\n",
      "Desktop/Real_Artists.house/4841276f269b8facc1200645d8d552e5.jpg\n",
      "Desktop/Real_Artists.house/beth-vieira-pxl-20210627-152317313.jpg\n",
      "Desktop/Real_Artists.house/s276096379260790569_p595_i1_w1280.jpeg\n",
      "Desktop/Real_Artists.house/9a879742b7f554f2fc31d2adff0baee9.jpg\n",
      "Desktop/Real_Artists.house/3d2958e311c9a440feb1a47adf6868f4.jpg\n",
      "Desktop/Real_Artists.house/a3bb6aead0ccdb08056e1faef6ca4bd5.jpg\n",
      "Desktop/Real_Artists.house/mary_lea_may_19_portrait.jpg\n",
      "Desktop/Real_Artists.house/73e8659e3e7586636cd96f74530c7fd2.jpg\n"
     ]
    }
   ],
   "source": [
    "mmmmmmmm1, m2, m3, s, h, w = get_directory_info(directory)"
   ]
  },
  {
   "cell_type": "code",
   "execution_count": 33,
   "id": "1565848d",
   "metadata": {},
   "outputs": [
    {
     "name": "stdout",
     "output_type": "stream",
     "text": [
      "282.69767441860466 2052 32 436.6610379775311 757 896\n"
     ]
    }
   ],
   "source": [
    "print(mmmmmmmm1, m2, m3, s, h, w)"
   ]
  },
  {
   "cell_type": "markdown",
   "id": "e2037bed",
   "metadata": {},
   "source": [
    "__"
   ]
  },
  {
   "cell_type": "markdown",
   "id": "a8593f6b",
   "metadata": {},
   "source": [
    "# Getting Information From Directories"
   ]
  },
  {
   "cell_type": "markdown",
   "id": "c52ee244",
   "metadata": {},
   "source": [
    "### *DALLE - Cups*"
   ]
  },
  {
   "cell_type": "code",
   "execution_count": 34,
   "id": "cff7588f",
   "metadata": {},
   "outputs": [],
   "source": [
    "directory = 'Desktop/DALLE.cup'"
   ]
  },
  {
   "cell_type": "code",
   "execution_count": 35,
   "id": "e3697323",
   "metadata": {},
   "outputs": [],
   "source": [
    "def get_raw_data(directory,category):\n",
    "    local_data = list()\n",
    "     \n",
    "    for filename in os.listdir(directory):\n",
    "        f = os.path.join(directory, filename)\n",
    "        if os.path.isfile(f):\n",
    "            if(f.endswith(\".png\") or f.endswith(\"jpg\") or f.endswith(\"jpeg\")):\n",
    "               size = round(os.path.getsize(f)/1023) #converting the size to kilobytes\n",
    "                              \n",
    "               img_path = os.path.join(f) #making image file path\n",
    "               im = Image.open(img_path)\n",
    "               \n",
    "               local_data.append([category, size, im.size[0], im.size[1]]) #can add f inside brackets to get file name\n",
    "       \n",
    "    return (local_data)"
   ]
  },
  {
   "cell_type": "code",
   "execution_count": 36,
   "id": "1906512f",
   "metadata": {},
   "outputs": [],
   "source": [
    "ld = get_raw_data(directory, 'Desktop/DALLE.cup')"
   ]
  },
  {
   "cell_type": "code",
   "execution_count": 37,
   "id": "a22f9632",
   "metadata": {},
   "outputs": [
    {
     "data": {
      "text/plain": [
       "[['Desktop/DALLE.cup', 1808, 1024, 1024],\n",
       " ['Desktop/DALLE.cup', 1683, 1024, 1024],\n",
       " ['Desktop/DALLE.cup', 1952, 1024, 1024],\n",
       " ['Desktop/DALLE.cup', 1608, 1024, 1024],\n",
       " ['Desktop/DALLE.cup', 2099, 1024, 1024],\n",
       " ['Desktop/DALLE.cup', 1915, 1024, 1024],\n",
       " ['Desktop/DALLE.cup', 1801, 1024, 1024],\n",
       " ['Desktop/DALLE.cup', 2215, 1024, 1024],\n",
       " ['Desktop/DALLE.cup', 1670, 1024, 1024],\n",
       " ['Desktop/DALLE.cup', 1915, 1024, 1024],\n",
       " ['Desktop/DALLE.cup', 1820, 1024, 1024],\n",
       " ['Desktop/DALLE.cup', 2188, 1024, 1024],\n",
       " ['Desktop/DALLE.cup', 1148, 1024, 1024],\n",
       " ['Desktop/DALLE.cup', 1801, 1024, 1024],\n",
       " ['Desktop/DALLE.cup', 1923, 1024, 1024],\n",
       " ['Desktop/DALLE.cup', 2103, 1024, 1024],\n",
       " ['Desktop/DALLE.cup', 1811, 1024, 1024],\n",
       " ['Desktop/DALLE.cup', 1643, 1024, 1024],\n",
       " ['Desktop/DALLE.cup', 2081, 1024, 1024],\n",
       " ['Desktop/DALLE.cup', 1820, 1024, 1024],\n",
       " ['Desktop/DALLE.cup', 1110, 1024, 1024],\n",
       " ['Desktop/DALLE.cup', 1498, 1024, 1024],\n",
       " ['Desktop/DALLE.cup', 2148, 1024, 1024],\n",
       " ['Desktop/DALLE.cup', 1558, 1024, 1024],\n",
       " ['Desktop/DALLE.cup', 1512, 1024, 1024],\n",
       " ['Desktop/DALLE.cup', 1802, 1024, 1024],\n",
       " ['Desktop/DALLE.cup', 2175, 1024, 1024],\n",
       " ['Desktop/DALLE.cup', 1868, 1024, 1024],\n",
       " ['Desktop/DALLE.cup', 1912, 1024, 1024],\n",
       " ['Desktop/DALLE.cup', 1886, 1024, 1024],\n",
       " ['Desktop/DALLE.cup', 1991, 1024, 1024],\n",
       " ['Desktop/DALLE.cup', 1812, 1024, 1024],\n",
       " ['Desktop/DALLE.cup', 1929, 1024, 1024],\n",
       " ['Desktop/DALLE.cup', 2194, 1024, 1024],\n",
       " ['Desktop/DALLE.cup', 2171, 1024, 1024],\n",
       " ['Desktop/DALLE.cup', 1817, 1024, 1024],\n",
       " ['Desktop/DALLE.cup', 2316, 1024, 1024],\n",
       " ['Desktop/DALLE.cup', 1691, 1024, 1024],\n",
       " ['Desktop/DALLE.cup', 2254, 1024, 1024],\n",
       " ['Desktop/DALLE.cup', 1965, 1024, 1024],\n",
       " ['Desktop/DALLE.cup', 1683, 1024, 1024],\n",
       " ['Desktop/DALLE.cup', 1372, 1024, 1024],\n",
       " ['Desktop/DALLE.cup', 2263, 1024, 1024],\n",
       " ['Desktop/DALLE.cup', 2192, 1024, 1024],\n",
       " ['Desktop/DALLE.cup', 1576, 1024, 1024],\n",
       " ['Desktop/DALLE.cup', 1518, 1024, 1024],\n",
       " ['Desktop/DALLE.cup', 1667, 1024, 1024],\n",
       " ['Desktop/DALLE.cup', 1782, 1024, 1024],\n",
       " ['Desktop/DALLE.cup', 2155, 1024, 1024],\n",
       " ['Desktop/DALLE.cup', 1709, 1024, 1024],\n",
       " ['Desktop/DALLE.cup', 2198, 1024, 1024],\n",
       " ['Desktop/DALLE.cup', 1992, 1024, 1024]]"
      ]
     },
     "execution_count": 37,
     "metadata": {},
     "output_type": "execute_result"
    }
   ],
   "source": [
    "ld"
   ]
  },
  {
   "cell_type": "code",
   "execution_count": 38,
   "id": "e02f002b",
   "metadata": {},
   "outputs": [],
   "source": [
    "dalle_cups = pd.DataFrame(ld)"
   ]
  },
  {
   "cell_type": "code",
   "execution_count": 39,
   "id": "be2bbcbf",
   "metadata": {},
   "outputs": [
    {
     "name": "stdout",
     "output_type": "stream",
     "text": [
      "['Desktop/DALLE.cup', 1808, 1024, 1024]\n",
      "['Desktop/DALLE.cup', 1683, 1024, 1024]\n",
      "['Desktop/DALLE.cup', 1952, 1024, 1024]\n",
      "['Desktop/DALLE.cup', 1608, 1024, 1024]\n",
      "['Desktop/DALLE.cup', 2099, 1024, 1024]\n",
      "['Desktop/DALLE.cup', 1915, 1024, 1024]\n",
      "['Desktop/DALLE.cup', 1801, 1024, 1024]\n",
      "['Desktop/DALLE.cup', 2215, 1024, 1024]\n",
      "['Desktop/DALLE.cup', 1670, 1024, 1024]\n",
      "['Desktop/DALLE.cup', 1915, 1024, 1024]\n",
      "['Desktop/DALLE.cup', 1820, 1024, 1024]\n",
      "['Desktop/DALLE.cup', 2188, 1024, 1024]\n",
      "['Desktop/DALLE.cup', 1148, 1024, 1024]\n",
      "['Desktop/DALLE.cup', 1801, 1024, 1024]\n",
      "['Desktop/DALLE.cup', 1923, 1024, 1024]\n",
      "['Desktop/DALLE.cup', 2103, 1024, 1024]\n",
      "['Desktop/DALLE.cup', 1811, 1024, 1024]\n",
      "['Desktop/DALLE.cup', 1643, 1024, 1024]\n",
      "['Desktop/DALLE.cup', 2081, 1024, 1024]\n",
      "['Desktop/DALLE.cup', 1820, 1024, 1024]\n",
      "['Desktop/DALLE.cup', 1110, 1024, 1024]\n",
      "['Desktop/DALLE.cup', 1498, 1024, 1024]\n",
      "['Desktop/DALLE.cup', 2148, 1024, 1024]\n",
      "['Desktop/DALLE.cup', 1558, 1024, 1024]\n",
      "['Desktop/DALLE.cup', 1512, 1024, 1024]\n",
      "['Desktop/DALLE.cup', 1802, 1024, 1024]\n",
      "['Desktop/DALLE.cup', 2175, 1024, 1024]\n",
      "['Desktop/DALLE.cup', 1868, 1024, 1024]\n",
      "['Desktop/DALLE.cup', 1912, 1024, 1024]\n",
      "['Desktop/DALLE.cup', 1886, 1024, 1024]\n",
      "['Desktop/DALLE.cup', 1991, 1024, 1024]\n",
      "['Desktop/DALLE.cup', 1812, 1024, 1024]\n",
      "['Desktop/DALLE.cup', 1929, 1024, 1024]\n",
      "['Desktop/DALLE.cup', 2194, 1024, 1024]\n",
      "['Desktop/DALLE.cup', 2171, 1024, 1024]\n",
      "['Desktop/DALLE.cup', 1817, 1024, 1024]\n",
      "['Desktop/DALLE.cup', 2316, 1024, 1024]\n",
      "['Desktop/DALLE.cup', 1691, 1024, 1024]\n",
      "['Desktop/DALLE.cup', 2254, 1024, 1024]\n",
      "['Desktop/DALLE.cup', 1965, 1024, 1024]\n",
      "['Desktop/DALLE.cup', 1683, 1024, 1024]\n",
      "['Desktop/DALLE.cup', 1372, 1024, 1024]\n",
      "['Desktop/DALLE.cup', 2263, 1024, 1024]\n",
      "['Desktop/DALLE.cup', 2192, 1024, 1024]\n",
      "['Desktop/DALLE.cup', 1576, 1024, 1024]\n",
      "['Desktop/DALLE.cup', 1518, 1024, 1024]\n",
      "['Desktop/DALLE.cup', 1667, 1024, 1024]\n",
      "['Desktop/DALLE.cup', 1782, 1024, 1024]\n",
      "['Desktop/DALLE.cup', 2155, 1024, 1024]\n",
      "['Desktop/DALLE.cup', 1709, 1024, 1024]\n",
      "['Desktop/DALLE.cup', 2198, 1024, 1024]\n",
      "['Desktop/DALLE.cup', 1992, 1024, 1024]\n"
     ]
    }
   ],
   "source": [
    "for x in ld:\n",
    "    print(x)"
   ]
  },
  {
   "cell_type": "code",
   "execution_count": 40,
   "id": "855c9c26",
   "metadata": {},
   "outputs": [
    {
     "data": {
      "text/html": [
       "<div>\n",
       "<style scoped>\n",
       "    .dataframe tbody tr th:only-of-type {\n",
       "        vertical-align: middle;\n",
       "    }\n",
       "\n",
       "    .dataframe tbody tr th {\n",
       "        vertical-align: top;\n",
       "    }\n",
       "\n",
       "    .dataframe thead th {\n",
       "        text-align: right;\n",
       "    }\n",
       "</style>\n",
       "<table border=\"1\" class=\"dataframe\">\n",
       "  <thead>\n",
       "    <tr style=\"text-align: right;\">\n",
       "      <th></th>\n",
       "      <th>0</th>\n",
       "      <th>1</th>\n",
       "      <th>2</th>\n",
       "      <th>3</th>\n",
       "    </tr>\n",
       "  </thead>\n",
       "  <tbody>\n",
       "    <tr>\n",
       "      <th>0</th>\n",
       "      <td>Desktop/DALLE.cup</td>\n",
       "      <td>1808</td>\n",
       "      <td>1024</td>\n",
       "      <td>1024</td>\n",
       "    </tr>\n",
       "    <tr>\n",
       "      <th>1</th>\n",
       "      <td>Desktop/DALLE.cup</td>\n",
       "      <td>1683</td>\n",
       "      <td>1024</td>\n",
       "      <td>1024</td>\n",
       "    </tr>\n",
       "    <tr>\n",
       "      <th>2</th>\n",
       "      <td>Desktop/DALLE.cup</td>\n",
       "      <td>1952</td>\n",
       "      <td>1024</td>\n",
       "      <td>1024</td>\n",
       "    </tr>\n",
       "    <tr>\n",
       "      <th>3</th>\n",
       "      <td>Desktop/DALLE.cup</td>\n",
       "      <td>1608</td>\n",
       "      <td>1024</td>\n",
       "      <td>1024</td>\n",
       "    </tr>\n",
       "    <tr>\n",
       "      <th>4</th>\n",
       "      <td>Desktop/DALLE.cup</td>\n",
       "      <td>2099</td>\n",
       "      <td>1024</td>\n",
       "      <td>1024</td>\n",
       "    </tr>\n",
       "  </tbody>\n",
       "</table>\n",
       "</div>"
      ],
      "text/plain": [
       "                   0     1     2     3\n",
       "0  Desktop/DALLE.cup  1808  1024  1024\n",
       "1  Desktop/DALLE.cup  1683  1024  1024\n",
       "2  Desktop/DALLE.cup  1952  1024  1024\n",
       "3  Desktop/DALLE.cup  1608  1024  1024\n",
       "4  Desktop/DALLE.cup  2099  1024  1024"
      ]
     },
     "execution_count": 40,
     "metadata": {},
     "output_type": "execute_result"
    }
   ],
   "source": [
    "dalle_cups.head()"
   ]
  },
  {
   "cell_type": "markdown",
   "id": "b50b36f9",
   "metadata": {},
   "source": [
    "### *Real Artists - Cups*"
   ]
  },
  {
   "cell_type": "code",
   "execution_count": 41,
   "id": "a861c02b",
   "metadata": {},
   "outputs": [],
   "source": [
    "directory = 'Desktop/Real_Artists.cup'"
   ]
  },
  {
   "cell_type": "code",
   "execution_count": 42,
   "id": "db2112a8",
   "metadata": {},
   "outputs": [],
   "source": [
    "def get_raw_data(directory,category):\n",
    "    local_data = list()\n",
    "     \n",
    "    for filename in os.listdir(directory):\n",
    "        f = os.path.join(directory, filename)\n",
    "        if os.path.isfile(f):\n",
    "            if(f.endswith(\".png\") or f.endswith(\"jpg\") or f.endswith(\"jpeg\")):\n",
    "               size = round(os.path.getsize(f)/1023) #converting the size to kilobytes\n",
    "                              \n",
    "               img_path = os.path.join(f) #making image file path\n",
    "               im = Image.open(img_path)\n",
    "               \n",
    "               local_data.append([category, size, im.size[0], im.size[1]]) #can add f inside brackets to get file name\n",
    "       \n",
    "    return (local_data)"
   ]
  },
  {
   "cell_type": "code",
   "execution_count": 43,
   "id": "699e013a",
   "metadata": {},
   "outputs": [],
   "source": [
    "ld = get_raw_data(directory, 'Desktop/Real_Artists.cup')"
   ]
  },
  {
   "cell_type": "code",
   "execution_count": 44,
   "id": "6059b7a7",
   "metadata": {},
   "outputs": [
    {
     "data": {
      "text/plain": [
       "[['Desktop/Real_Artists.cup', 342, 1600, 1116],\n",
       " ['Desktop/Real_Artists.cup', 2549, 1260, 1258],\n",
       " ['Desktop/Real_Artists.cup', 42, 570, 760],\n",
       " ['Desktop/Real_Artists.cup', 7, 262, 193],\n",
       " ['Desktop/Real_Artists.cup', 222, 1091, 1500],\n",
       " ['Desktop/Real_Artists.cup', 60, 670, 800],\n",
       " ['Desktop/Real_Artists.cup', 378, 1600, 1133],\n",
       " ['Desktop/Real_Artists.cup', 42, 499, 499],\n",
       " ['Desktop/Real_Artists.cup', 84, 564, 698],\n",
       " ['Desktop/Real_Artists.cup', 103, 1280, 720],\n",
       " ['Desktop/Real_Artists.cup', 150, 900, 791],\n",
       " ['Desktop/Real_Artists.cup', 32, 400, 300],\n",
       " ['Desktop/Real_Artists.cup', 40, 499, 499],\n",
       " ['Desktop/Real_Artists.cup', 88, 770, 777],\n",
       " ['Desktop/Real_Artists.cup', 48, 564, 787],\n",
       " ['Desktop/Real_Artists.cup', 243, 450, 331],\n",
       " ['Desktop/Real_Artists.cup', 48, 563, 593],\n",
       " ['Desktop/Real_Artists.cup', 385, 893, 900],\n",
       " ['Desktop/Real_Artists.cup', 52, 499, 500],\n",
       " ['Desktop/Real_Artists.cup', 229, 1600, 1117],\n",
       " ['Desktop/Real_Artists.cup', 211, 1024, 787],\n",
       " ['Desktop/Real_Artists.cup', 229, 1067, 800],\n",
       " ['Desktop/Real_Artists.cup', 1530, 1846, 1494],\n",
       " ['Desktop/Real_Artists.cup', 34, 499, 499],\n",
       " ['Desktop/Real_Artists.cup', 32, 413, 550],\n",
       " ['Desktop/Real_Artists.cup', 28, 569, 565],\n",
       " ['Desktop/Real_Artists.cup', 30, 375, 247],\n",
       " ['Desktop/Real_Artists.cup', 720, 1440, 1013],\n",
       " ['Desktop/Real_Artists.cup', 41, 398, 400],\n",
       " ['Desktop/Real_Artists.cup', 171, 1024, 768],\n",
       " ['Desktop/Real_Artists.cup', 563, 1600, 1593],\n",
       " ['Desktop/Real_Artists.cup', 123, 564, 844],\n",
       " ['Desktop/Real_Artists.cup', 51, 736, 667],\n",
       " ['Desktop/Real_Artists.cup', 29, 442, 324],\n",
       " ['Desktop/Real_Artists.cup', 138, 1024, 768],\n",
       " ['Desktop/Real_Artists.cup', 1175, 2346, 3003],\n",
       " ['Desktop/Real_Artists.cup', 283, 900, 900],\n",
       " ['Desktop/Real_Artists.cup', 87, 533, 720],\n",
       " ['Desktop/Real_Artists.cup', 377, 1388, 1383],\n",
       " ['Desktop/Real_Artists.cup', 31, 474, 474],\n",
       " ['Desktop/Real_Artists.cup', 50, 500, 496],\n",
       " ['Desktop/Real_Artists.cup', 605, 1915, 1920],\n",
       " ['Desktop/Real_Artists.cup', 109, 1280, 720],\n",
       " ['Desktop/Real_Artists.cup', 835, 896, 616],\n",
       " ['Desktop/Real_Artists.cup', 611, 1485, 1488]]"
      ]
     },
     "execution_count": 44,
     "metadata": {},
     "output_type": "execute_result"
    }
   ],
   "source": [
    "ld"
   ]
  },
  {
   "cell_type": "code",
   "execution_count": 45,
   "id": "be0cb3ce",
   "metadata": {},
   "outputs": [],
   "source": [
    "real_cups = pd.DataFrame(ld)"
   ]
  },
  {
   "cell_type": "code",
   "execution_count": 46,
   "id": "c5832e74",
   "metadata": {},
   "outputs": [
    {
     "name": "stdout",
     "output_type": "stream",
     "text": [
      "['Desktop/Real_Artists.cup', 342, 1600, 1116]\n",
      "['Desktop/Real_Artists.cup', 2549, 1260, 1258]\n",
      "['Desktop/Real_Artists.cup', 42, 570, 760]\n",
      "['Desktop/Real_Artists.cup', 7, 262, 193]\n",
      "['Desktop/Real_Artists.cup', 222, 1091, 1500]\n",
      "['Desktop/Real_Artists.cup', 60, 670, 800]\n",
      "['Desktop/Real_Artists.cup', 378, 1600, 1133]\n",
      "['Desktop/Real_Artists.cup', 42, 499, 499]\n",
      "['Desktop/Real_Artists.cup', 84, 564, 698]\n",
      "['Desktop/Real_Artists.cup', 103, 1280, 720]\n",
      "['Desktop/Real_Artists.cup', 150, 900, 791]\n",
      "['Desktop/Real_Artists.cup', 32, 400, 300]\n",
      "['Desktop/Real_Artists.cup', 40, 499, 499]\n",
      "['Desktop/Real_Artists.cup', 88, 770, 777]\n",
      "['Desktop/Real_Artists.cup', 48, 564, 787]\n",
      "['Desktop/Real_Artists.cup', 243, 450, 331]\n",
      "['Desktop/Real_Artists.cup', 48, 563, 593]\n",
      "['Desktop/Real_Artists.cup', 385, 893, 900]\n",
      "['Desktop/Real_Artists.cup', 52, 499, 500]\n",
      "['Desktop/Real_Artists.cup', 229, 1600, 1117]\n",
      "['Desktop/Real_Artists.cup', 211, 1024, 787]\n",
      "['Desktop/Real_Artists.cup', 229, 1067, 800]\n",
      "['Desktop/Real_Artists.cup', 1530, 1846, 1494]\n",
      "['Desktop/Real_Artists.cup', 34, 499, 499]\n",
      "['Desktop/Real_Artists.cup', 32, 413, 550]\n",
      "['Desktop/Real_Artists.cup', 28, 569, 565]\n",
      "['Desktop/Real_Artists.cup', 30, 375, 247]\n",
      "['Desktop/Real_Artists.cup', 720, 1440, 1013]\n",
      "['Desktop/Real_Artists.cup', 41, 398, 400]\n",
      "['Desktop/Real_Artists.cup', 171, 1024, 768]\n",
      "['Desktop/Real_Artists.cup', 563, 1600, 1593]\n",
      "['Desktop/Real_Artists.cup', 123, 564, 844]\n",
      "['Desktop/Real_Artists.cup', 51, 736, 667]\n",
      "['Desktop/Real_Artists.cup', 29, 442, 324]\n",
      "['Desktop/Real_Artists.cup', 138, 1024, 768]\n",
      "['Desktop/Real_Artists.cup', 1175, 2346, 3003]\n",
      "['Desktop/Real_Artists.cup', 283, 900, 900]\n",
      "['Desktop/Real_Artists.cup', 87, 533, 720]\n",
      "['Desktop/Real_Artists.cup', 377, 1388, 1383]\n",
      "['Desktop/Real_Artists.cup', 31, 474, 474]\n",
      "['Desktop/Real_Artists.cup', 50, 500, 496]\n",
      "['Desktop/Real_Artists.cup', 605, 1915, 1920]\n",
      "['Desktop/Real_Artists.cup', 109, 1280, 720]\n",
      "['Desktop/Real_Artists.cup', 835, 896, 616]\n",
      "['Desktop/Real_Artists.cup', 611, 1485, 1488]\n"
     ]
    }
   ],
   "source": [
    "for x in ld:\n",
    "    print(x)"
   ]
  },
  {
   "cell_type": "markdown",
   "id": "2d46a7f7",
   "metadata": {},
   "source": [
    "### *DALLE - Dogs*"
   ]
  },
  {
   "cell_type": "code",
   "execution_count": 47,
   "id": "11010ec7",
   "metadata": {},
   "outputs": [],
   "source": [
    "directory = 'Desktop/DALLE.dog'"
   ]
  },
  {
   "cell_type": "code",
   "execution_count": 48,
   "id": "38847b2b",
   "metadata": {},
   "outputs": [],
   "source": [
    "def get_raw_data(directory,category):\n",
    "    local_data = list()\n",
    "     \n",
    "    for filename in os.listdir(directory):\n",
    "        f = os.path.join(directory, filename)\n",
    "        if os.path.isfile(f):\n",
    "            if(f.endswith(\".png\") or f.endswith(\"jpg\") or f.endswith(\"jpeg\")):\n",
    "               size = round(os.path.getsize(f)/1023) #converting the size to kilobytes\n",
    "                              \n",
    "               img_path = os.path.join(f) #making image file path\n",
    "               im = Image.open(img_path)\n",
    "               \n",
    "               local_data.append([category, size, im.size[0], im.size[1]]) #can add f inside brackets to get file name\n",
    "       \n",
    "    return (local_data)"
   ]
  },
  {
   "cell_type": "code",
   "execution_count": 49,
   "id": "3bb1f5a2",
   "metadata": {},
   "outputs": [],
   "source": [
    "ld = get_raw_data(directory, 'Desktop/DALLE.dog')"
   ]
  },
  {
   "cell_type": "code",
   "execution_count": 50,
   "id": "9d2283db",
   "metadata": {},
   "outputs": [
    {
     "data": {
      "text/plain": [
       "[['Desktop/DALLE.dog', 2226, 1024, 1024],\n",
       " ['Desktop/DALLE.dog', 1709, 1024, 1024],\n",
       " ['Desktop/DALLE.dog', 1729, 1024, 1024],\n",
       " ['Desktop/DALLE.dog', 1619, 1024, 1024],\n",
       " ['Desktop/DALLE.dog', 1815, 1024, 1024],\n",
       " ['Desktop/DALLE.dog', 1706, 1024, 1024],\n",
       " ['Desktop/DALLE.dog', 1947, 1024, 1024],\n",
       " ['Desktop/DALLE.dog', 2282, 1024, 1024],\n",
       " ['Desktop/DALLE.dog', 2356, 1024, 1024],\n",
       " ['Desktop/DALLE.dog', 1753, 1024, 1024],\n",
       " ['Desktop/DALLE.dog', 1592, 1024, 1024],\n",
       " ['Desktop/DALLE.dog', 2211, 1024, 1024],\n",
       " ['Desktop/DALLE.dog', 1730, 1024, 1024],\n",
       " ['Desktop/DALLE.dog', 1444, 1024, 1024],\n",
       " ['Desktop/DALLE.dog', 1853, 1024, 1024],\n",
       " ['Desktop/DALLE.dog', 1892, 1024, 1024],\n",
       " ['Desktop/DALLE.dog', 2382, 1024, 1024],\n",
       " ['Desktop/DALLE.dog', 1930, 1024, 1024],\n",
       " ['Desktop/DALLE.dog', 1859, 1024, 1024],\n",
       " ['Desktop/DALLE.dog', 1677, 1024, 1024],\n",
       " ['Desktop/DALLE.dog', 1672, 1024, 1024],\n",
       " ['Desktop/DALLE.dog', 1890, 1024, 1024],\n",
       " ['Desktop/DALLE.dog', 1837, 1024, 1024],\n",
       " ['Desktop/DALLE.dog', 1646, 1024, 1024],\n",
       " ['Desktop/DALLE.dog', 2181, 1024, 1024],\n",
       " ['Desktop/DALLE.dog', 2394, 1024, 1024],\n",
       " ['Desktop/DALLE.dog', 1680, 1024, 1024],\n",
       " ['Desktop/DALLE.dog', 2319, 1024, 1024],\n",
       " ['Desktop/DALLE.dog', 2139, 1024, 1024],\n",
       " ['Desktop/DALLE.dog', 2020, 1024, 1024],\n",
       " ['Desktop/DALLE.dog', 2007, 1024, 1024],\n",
       " ['Desktop/DALLE.dog', 1649, 1024, 1024],\n",
       " ['Desktop/DALLE.dog', 1622, 1024, 1024],\n",
       " ['Desktop/DALLE.dog', 2106, 1024, 1024],\n",
       " ['Desktop/DALLE.dog', 1870, 1024, 1024],\n",
       " ['Desktop/DALLE.dog', 1910, 1024, 1024],\n",
       " ['Desktop/DALLE.dog', 1955, 1024, 1024],\n",
       " ['Desktop/DALLE.dog', 1819, 1024, 1024],\n",
       " ['Desktop/DALLE.dog', 1507, 1024, 1024],\n",
       " ['Desktop/DALLE.dog', 1524, 1024, 1024],\n",
       " ['Desktop/DALLE.dog', 1886, 1024, 1024],\n",
       " ['Desktop/DALLE.dog', 1441, 1024, 1024],\n",
       " ['Desktop/DALLE.dog', 2081, 1024, 1024],\n",
       " ['Desktop/DALLE.dog', 1738, 1024, 1024],\n",
       " ['Desktop/DALLE.dog', 2200, 1024, 1024],\n",
       " ['Desktop/DALLE.dog', 2196, 1024, 1024],\n",
       " ['Desktop/DALLE.dog', 2296, 1024, 1024],\n",
       " ['Desktop/DALLE.dog', 1754, 1024, 1024],\n",
       " ['Desktop/DALLE.dog', 2322, 1024, 1024],\n",
       " ['Desktop/DALLE.dog', 2134, 1024, 1024]]"
      ]
     },
     "execution_count": 50,
     "metadata": {},
     "output_type": "execute_result"
    }
   ],
   "source": [
    "ld"
   ]
  },
  {
   "cell_type": "code",
   "execution_count": 51,
   "id": "1a6fafea",
   "metadata": {},
   "outputs": [],
   "source": [
    "dalle_dogs = pd.DataFrame(ld)"
   ]
  },
  {
   "cell_type": "code",
   "execution_count": 52,
   "id": "b26d0055",
   "metadata": {},
   "outputs": [
    {
     "name": "stdout",
     "output_type": "stream",
     "text": [
      "['Desktop/DALLE.dog', 2226, 1024, 1024]\n",
      "['Desktop/DALLE.dog', 1709, 1024, 1024]\n",
      "['Desktop/DALLE.dog', 1729, 1024, 1024]\n",
      "['Desktop/DALLE.dog', 1619, 1024, 1024]\n",
      "['Desktop/DALLE.dog', 1815, 1024, 1024]\n",
      "['Desktop/DALLE.dog', 1706, 1024, 1024]\n",
      "['Desktop/DALLE.dog', 1947, 1024, 1024]\n",
      "['Desktop/DALLE.dog', 2282, 1024, 1024]\n",
      "['Desktop/DALLE.dog', 2356, 1024, 1024]\n",
      "['Desktop/DALLE.dog', 1753, 1024, 1024]\n",
      "['Desktop/DALLE.dog', 1592, 1024, 1024]\n",
      "['Desktop/DALLE.dog', 2211, 1024, 1024]\n",
      "['Desktop/DALLE.dog', 1730, 1024, 1024]\n",
      "['Desktop/DALLE.dog', 1444, 1024, 1024]\n",
      "['Desktop/DALLE.dog', 1853, 1024, 1024]\n",
      "['Desktop/DALLE.dog', 1892, 1024, 1024]\n",
      "['Desktop/DALLE.dog', 2382, 1024, 1024]\n",
      "['Desktop/DALLE.dog', 1930, 1024, 1024]\n",
      "['Desktop/DALLE.dog', 1859, 1024, 1024]\n",
      "['Desktop/DALLE.dog', 1677, 1024, 1024]\n",
      "['Desktop/DALLE.dog', 1672, 1024, 1024]\n",
      "['Desktop/DALLE.dog', 1890, 1024, 1024]\n",
      "['Desktop/DALLE.dog', 1837, 1024, 1024]\n",
      "['Desktop/DALLE.dog', 1646, 1024, 1024]\n",
      "['Desktop/DALLE.dog', 2181, 1024, 1024]\n",
      "['Desktop/DALLE.dog', 2394, 1024, 1024]\n",
      "['Desktop/DALLE.dog', 1680, 1024, 1024]\n",
      "['Desktop/DALLE.dog', 2319, 1024, 1024]\n",
      "['Desktop/DALLE.dog', 2139, 1024, 1024]\n",
      "['Desktop/DALLE.dog', 2020, 1024, 1024]\n",
      "['Desktop/DALLE.dog', 2007, 1024, 1024]\n",
      "['Desktop/DALLE.dog', 1649, 1024, 1024]\n",
      "['Desktop/DALLE.dog', 1622, 1024, 1024]\n",
      "['Desktop/DALLE.dog', 2106, 1024, 1024]\n",
      "['Desktop/DALLE.dog', 1870, 1024, 1024]\n",
      "['Desktop/DALLE.dog', 1910, 1024, 1024]\n",
      "['Desktop/DALLE.dog', 1955, 1024, 1024]\n",
      "['Desktop/DALLE.dog', 1819, 1024, 1024]\n",
      "['Desktop/DALLE.dog', 1507, 1024, 1024]\n",
      "['Desktop/DALLE.dog', 1524, 1024, 1024]\n",
      "['Desktop/DALLE.dog', 1886, 1024, 1024]\n",
      "['Desktop/DALLE.dog', 1441, 1024, 1024]\n",
      "['Desktop/DALLE.dog', 2081, 1024, 1024]\n",
      "['Desktop/DALLE.dog', 1738, 1024, 1024]\n",
      "['Desktop/DALLE.dog', 2200, 1024, 1024]\n",
      "['Desktop/DALLE.dog', 2196, 1024, 1024]\n",
      "['Desktop/DALLE.dog', 2296, 1024, 1024]\n",
      "['Desktop/DALLE.dog', 1754, 1024, 1024]\n",
      "['Desktop/DALLE.dog', 2322, 1024, 1024]\n",
      "['Desktop/DALLE.dog', 2134, 1024, 1024]\n"
     ]
    }
   ],
   "source": [
    "for x in ld:\n",
    "    print(x)"
   ]
  },
  {
   "cell_type": "markdown",
   "id": "62b7fcda",
   "metadata": {},
   "source": [
    "### *Real Artists - Dogs*"
   ]
  },
  {
   "cell_type": "code",
   "execution_count": 53,
   "id": "b3d4b874",
   "metadata": {},
   "outputs": [],
   "source": [
    "directory = 'Desktop/Real_Artists.dog'"
   ]
  },
  {
   "cell_type": "code",
   "execution_count": 54,
   "id": "02d3da49",
   "metadata": {},
   "outputs": [],
   "source": [
    "def get_raw_data(directory,category):\n",
    "    local_data = list()\n",
    "     \n",
    "    for filename in os.listdir(directory):\n",
    "        f = os.path.join(directory, filename)\n",
    "        if os.path.isfile(f):\n",
    "            if(f.endswith(\".png\") or f.endswith(\"jpg\") or f.endswith(\"jpeg\")):\n",
    "               size = round(os.path.getsize(f)/1023) #converting the size to kilobytes\n",
    "                              \n",
    "               img_path = os.path.join(f) #making image file path\n",
    "               im = Image.open(img_path)\n",
    "               \n",
    "               local_data.append([category, size, im.size[0], im.size[1]]) #can add f inside brackets to get file name\n",
    "       \n",
    "    return (local_data)"
   ]
  },
  {
   "cell_type": "code",
   "execution_count": 55,
   "id": "44d26fc0",
   "metadata": {},
   "outputs": [],
   "source": [
    "ld = get_raw_data(directory, 'Desktop/Real_Artists.dog')"
   ]
  },
  {
   "cell_type": "code",
   "execution_count": 56,
   "id": "cc481fbf",
   "metadata": {},
   "outputs": [
    {
     "data": {
      "text/plain": [
       "[['Desktop/Real_Artists.dog', 12, 300, 299],\n",
       " ['Desktop/Real_Artists.dog', 1048, 2500, 3333],\n",
       " ['Desktop/Real_Artists.dog', 445, 1500, 1500],\n",
       " ['Desktop/Real_Artists.dog', 95, 1280, 720],\n",
       " ['Desktop/Real_Artists.dog', 513, 1440, 1442],\n",
       " ['Desktop/Real_Artists.dog', 48, 564, 752],\n",
       " ['Desktop/Real_Artists.dog', 220, 1494, 1142],\n",
       " ['Desktop/Real_Artists.dog', 42, 564, 752],\n",
       " ['Desktop/Real_Artists.dog', 66, 618, 768],\n",
       " ['Desktop/Real_Artists.dog', 44, 500, 441],\n",
       " ['Desktop/Real_Artists.dog', 72, 621, 900],\n",
       " ['Desktop/Real_Artists.dog', 106, 848, 565],\n",
       " ['Desktop/Real_Artists.dog', 514, 1920, 2859],\n",
       " ['Desktop/Real_Artists.dog', 59, 563, 620],\n",
       " ['Desktop/Real_Artists.dog', 155, 900, 656],\n",
       " ['Desktop/Real_Artists.dog', 32, 474, 474],\n",
       " ['Desktop/Real_Artists.dog', 476, 1152, 1152],\n",
       " ['Desktop/Real_Artists.dog', 54, 557, 400],\n",
       " ['Desktop/Real_Artists.dog', 853, 2362, 2649],\n",
       " ['Desktop/Real_Artists.dog', 906, 2400, 3000],\n",
       " ['Desktop/Real_Artists.dog', 52, 770, 624],\n",
       " ['Desktop/Real_Artists.dog', 1358, 734, 876],\n",
       " ['Desktop/Real_Artists.dog', 50, 564, 794],\n",
       " ['Desktop/Real_Artists.dog', 62, 564, 596],\n",
       " ['Desktop/Real_Artists.dog', 16, 236, 318],\n",
       " ['Desktop/Real_Artists.dog', 42, 550, 393],\n",
       " ['Desktop/Real_Artists.dog', 423, 1331, 1060],\n",
       " ['Desktop/Real_Artists.dog', 60, 564, 751],\n",
       " ['Desktop/Real_Artists.dog', 72, 473, 592],\n",
       " ['Desktop/Real_Artists.dog', 157, 1024, 1029],\n",
       " ['Desktop/Real_Artists.dog', 108, 540, 782],\n",
       " ['Desktop/Real_Artists.dog', 47, 564, 569],\n",
       " ['Desktop/Real_Artists.dog', 1174, 728, 922],\n",
       " ['Desktop/Real_Artists.dog', 589, 1500, 1500],\n",
       " ['Desktop/Real_Artists.dog', 137, 600, 753],\n",
       " ['Desktop/Real_Artists.dog', 88, 564, 705],\n",
       " ['Desktop/Real_Artists.dog', 82, 564, 728],\n",
       " ['Desktop/Real_Artists.dog', 141, 750, 1134],\n",
       " ['Desktop/Real_Artists.dog', 775, 2500, 1983],\n",
       " ['Desktop/Real_Artists.dog', 20, 300, 250],\n",
       " ['Desktop/Real_Artists.dog', 36, 399, 499],\n",
       " ['Desktop/Real_Artists.dog', 203, 504, 504],\n",
       " ['Desktop/Real_Artists.dog', 74, 563, 759],\n",
       " ['Desktop/Real_Artists.dog', 84, 564, 846]]"
      ]
     },
     "execution_count": 56,
     "metadata": {},
     "output_type": "execute_result"
    }
   ],
   "source": [
    "ld"
   ]
  },
  {
   "cell_type": "code",
   "execution_count": 57,
   "id": "980d26ae",
   "metadata": {},
   "outputs": [],
   "source": [
    "real_dogs = pd.DataFrame(ld)"
   ]
  },
  {
   "cell_type": "code",
   "execution_count": 58,
   "id": "62f98d2d",
   "metadata": {},
   "outputs": [
    {
     "name": "stdout",
     "output_type": "stream",
     "text": [
      "['Desktop/Real_Artists.dog', 12, 300, 299]\n",
      "['Desktop/Real_Artists.dog', 1048, 2500, 3333]\n",
      "['Desktop/Real_Artists.dog', 445, 1500, 1500]\n",
      "['Desktop/Real_Artists.dog', 95, 1280, 720]\n",
      "['Desktop/Real_Artists.dog', 513, 1440, 1442]\n",
      "['Desktop/Real_Artists.dog', 48, 564, 752]\n",
      "['Desktop/Real_Artists.dog', 220, 1494, 1142]\n",
      "['Desktop/Real_Artists.dog', 42, 564, 752]\n",
      "['Desktop/Real_Artists.dog', 66, 618, 768]\n",
      "['Desktop/Real_Artists.dog', 44, 500, 441]\n",
      "['Desktop/Real_Artists.dog', 72, 621, 900]\n",
      "['Desktop/Real_Artists.dog', 106, 848, 565]\n",
      "['Desktop/Real_Artists.dog', 514, 1920, 2859]\n",
      "['Desktop/Real_Artists.dog', 59, 563, 620]\n",
      "['Desktop/Real_Artists.dog', 155, 900, 656]\n",
      "['Desktop/Real_Artists.dog', 32, 474, 474]\n",
      "['Desktop/Real_Artists.dog', 476, 1152, 1152]\n",
      "['Desktop/Real_Artists.dog', 54, 557, 400]\n",
      "['Desktop/Real_Artists.dog', 853, 2362, 2649]\n",
      "['Desktop/Real_Artists.dog', 906, 2400, 3000]\n",
      "['Desktop/Real_Artists.dog', 52, 770, 624]\n",
      "['Desktop/Real_Artists.dog', 1358, 734, 876]\n",
      "['Desktop/Real_Artists.dog', 50, 564, 794]\n",
      "['Desktop/Real_Artists.dog', 62, 564, 596]\n",
      "['Desktop/Real_Artists.dog', 16, 236, 318]\n",
      "['Desktop/Real_Artists.dog', 42, 550, 393]\n",
      "['Desktop/Real_Artists.dog', 423, 1331, 1060]\n",
      "['Desktop/Real_Artists.dog', 60, 564, 751]\n",
      "['Desktop/Real_Artists.dog', 72, 473, 592]\n",
      "['Desktop/Real_Artists.dog', 157, 1024, 1029]\n",
      "['Desktop/Real_Artists.dog', 108, 540, 782]\n",
      "['Desktop/Real_Artists.dog', 47, 564, 569]\n",
      "['Desktop/Real_Artists.dog', 1174, 728, 922]\n",
      "['Desktop/Real_Artists.dog', 589, 1500, 1500]\n",
      "['Desktop/Real_Artists.dog', 137, 600, 753]\n",
      "['Desktop/Real_Artists.dog', 88, 564, 705]\n",
      "['Desktop/Real_Artists.dog', 82, 564, 728]\n",
      "['Desktop/Real_Artists.dog', 141, 750, 1134]\n",
      "['Desktop/Real_Artists.dog', 775, 2500, 1983]\n",
      "['Desktop/Real_Artists.dog', 20, 300, 250]\n",
      "['Desktop/Real_Artists.dog', 36, 399, 499]\n",
      "['Desktop/Real_Artists.dog', 203, 504, 504]\n",
      "['Desktop/Real_Artists.dog', 74, 563, 759]\n",
      "['Desktop/Real_Artists.dog', 84, 564, 846]\n"
     ]
    }
   ],
   "source": [
    "for x in ld:\n",
    "    print(x)"
   ]
  },
  {
   "cell_type": "markdown",
   "id": "a8109dc6",
   "metadata": {},
   "source": [
    "### *DALLE - Fruits*"
   ]
  },
  {
   "cell_type": "code",
   "execution_count": 59,
   "id": "7ec32e8e",
   "metadata": {},
   "outputs": [],
   "source": [
    "directory = 'Desktop/DALLE.fruits'"
   ]
  },
  {
   "cell_type": "code",
   "execution_count": 60,
   "id": "4b52a76a",
   "metadata": {},
   "outputs": [],
   "source": [
    "def get_raw_data(directory,category):\n",
    "    local_data = list()\n",
    "     \n",
    "    for filename in os.listdir(directory):\n",
    "        f = os.path.join(directory, filename)\n",
    "        if os.path.isfile(f):\n",
    "            if(f.endswith(\".png\") or f.endswith(\"jpg\") or f.endswith(\"jpeg\")):\n",
    "               size = round(os.path.getsize(f)/1023) #converting the size to kilobytes\n",
    "                              \n",
    "               img_path = os.path.join(f) #making image file path\n",
    "               im = Image.open(img_path)\n",
    "               \n",
    "               local_data.append([category, size, im.size[0], im.size[1]]) #can add f inside brackets to get file name\n",
    "       \n",
    "    return (local_data)"
   ]
  },
  {
   "cell_type": "code",
   "execution_count": 61,
   "id": "5a5bdd6c",
   "metadata": {},
   "outputs": [],
   "source": [
    "ld = get_raw_data(directory, 'Desktop/DALLE.fruits')"
   ]
  },
  {
   "cell_type": "code",
   "execution_count": 62,
   "id": "82976b23",
   "metadata": {},
   "outputs": [
    {
     "data": {
      "text/plain": [
       "[['Desktop/DALLE.fruits', 1837, 1024, 1024],\n",
       " ['Desktop/DALLE.fruits', 1967, 1024, 1024],\n",
       " ['Desktop/DALLE.fruits', 1930, 1024, 1024],\n",
       " ['Desktop/DALLE.fruits', 1795, 1024, 1024],\n",
       " ['Desktop/DALLE.fruits', 1381, 1024, 1024],\n",
       " ['Desktop/DALLE.fruits', 1811, 1024, 1024],\n",
       " ['Desktop/DALLE.fruits', 1754, 1024, 1024],\n",
       " ['Desktop/DALLE.fruits', 1886, 1024, 1024],\n",
       " ['Desktop/DALLE.fruits', 1981, 1024, 1024],\n",
       " ['Desktop/DALLE.fruits', 2278, 1024, 1024],\n",
       " ['Desktop/DALLE.fruits', 2113, 1024, 1024],\n",
       " ['Desktop/DALLE.fruits', 2214, 1024, 1024],\n",
       " ['Desktop/DALLE.fruits', 2052, 1024, 1024],\n",
       " ['Desktop/DALLE.fruits', 1974, 1024, 1024],\n",
       " ['Desktop/DALLE.fruits', 1792, 1024, 1024],\n",
       " ['Desktop/DALLE.fruits', 1980, 1024, 1024],\n",
       " ['Desktop/DALLE.fruits', 2096, 1024, 1024],\n",
       " ['Desktop/DALLE.fruits', 1782, 1024, 1024],\n",
       " ['Desktop/DALLE.fruits', 2009, 1024, 1024],\n",
       " ['Desktop/DALLE.fruits', 1966, 1024, 1024],\n",
       " ['Desktop/DALLE.fruits', 1920, 1024, 1024],\n",
       " ['Desktop/DALLE.fruits', 1753, 1024, 1024],\n",
       " ['Desktop/DALLE.fruits', 1774, 1024, 1024],\n",
       " ['Desktop/DALLE.fruits', 1830, 1024, 1024],\n",
       " ['Desktop/DALLE.fruits', 2058, 1024, 1024],\n",
       " ['Desktop/DALLE.fruits', 1727, 1024, 1024],\n",
       " ['Desktop/DALLE.fruits', 1725, 1024, 1024],\n",
       " ['Desktop/DALLE.fruits', 1944, 1024, 1024],\n",
       " ['Desktop/DALLE.fruits', 1640, 1024, 1024],\n",
       " ['Desktop/DALLE.fruits', 1640, 1024, 1024],\n",
       " ['Desktop/DALLE.fruits', 2009, 1024, 1024],\n",
       " ['Desktop/DALLE.fruits', 1660, 1024, 1024],\n",
       " ['Desktop/DALLE.fruits', 1877, 1024, 1024],\n",
       " ['Desktop/DALLE.fruits', 2014, 1024, 1024],\n",
       " ['Desktop/DALLE.fruits', 1926, 1024, 1024],\n",
       " ['Desktop/DALLE.fruits', 1962, 1024, 1024],\n",
       " ['Desktop/DALLE.fruits', 1661, 1024, 1024],\n",
       " ['Desktop/DALLE.fruits', 1930, 1024, 1024],\n",
       " ['Desktop/DALLE.fruits', 2053, 1024, 1024],\n",
       " ['Desktop/DALLE.fruits', 2090, 1024, 1024],\n",
       " ['Desktop/DALLE.fruits', 1312, 1024, 1024],\n",
       " ['Desktop/DALLE.fruits', 1659, 1024, 1024],\n",
       " ['Desktop/DALLE.fruits', 1999, 1024, 1024],\n",
       " ['Desktop/DALLE.fruits', 1971, 1024, 1024],\n",
       " ['Desktop/DALLE.fruits', 1893, 1024, 1024],\n",
       " ['Desktop/DALLE.fruits', 1874, 1024, 1024],\n",
       " ['Desktop/DALLE.fruits', 1944, 1024, 1024],\n",
       " ['Desktop/DALLE.fruits', 1853, 1024, 1024],\n",
       " ['Desktop/DALLE.fruits', 1985, 1024, 1024],\n",
       " ['Desktop/DALLE.fruits', 2497, 1024, 1024],\n",
       " ['Desktop/DALLE.fruits', 1711, 1024, 1024],\n",
       " ['Desktop/DALLE.fruits', 1642, 1024, 1024],\n",
       " ['Desktop/DALLE.fruits', 1510, 1024, 1024],\n",
       " ['Desktop/DALLE.fruits', 2157, 1024, 1024]]"
      ]
     },
     "execution_count": 62,
     "metadata": {},
     "output_type": "execute_result"
    }
   ],
   "source": [
    "ld"
   ]
  },
  {
   "cell_type": "code",
   "execution_count": 63,
   "id": "9315496b",
   "metadata": {},
   "outputs": [],
   "source": [
    "dalle_fruits = pd.DataFrame(ld)"
   ]
  },
  {
   "cell_type": "code",
   "execution_count": 64,
   "id": "94bb6c55",
   "metadata": {},
   "outputs": [
    {
     "name": "stdout",
     "output_type": "stream",
     "text": [
      "['Desktop/DALLE.fruits', 1837, 1024, 1024]\n",
      "['Desktop/DALLE.fruits', 1967, 1024, 1024]\n",
      "['Desktop/DALLE.fruits', 1930, 1024, 1024]\n",
      "['Desktop/DALLE.fruits', 1795, 1024, 1024]\n",
      "['Desktop/DALLE.fruits', 1381, 1024, 1024]\n",
      "['Desktop/DALLE.fruits', 1811, 1024, 1024]\n",
      "['Desktop/DALLE.fruits', 1754, 1024, 1024]\n",
      "['Desktop/DALLE.fruits', 1886, 1024, 1024]\n",
      "['Desktop/DALLE.fruits', 1981, 1024, 1024]\n",
      "['Desktop/DALLE.fruits', 2278, 1024, 1024]\n",
      "['Desktop/DALLE.fruits', 2113, 1024, 1024]\n",
      "['Desktop/DALLE.fruits', 2214, 1024, 1024]\n",
      "['Desktop/DALLE.fruits', 2052, 1024, 1024]\n",
      "['Desktop/DALLE.fruits', 1974, 1024, 1024]\n",
      "['Desktop/DALLE.fruits', 1792, 1024, 1024]\n",
      "['Desktop/DALLE.fruits', 1980, 1024, 1024]\n",
      "['Desktop/DALLE.fruits', 2096, 1024, 1024]\n",
      "['Desktop/DALLE.fruits', 1782, 1024, 1024]\n",
      "['Desktop/DALLE.fruits', 2009, 1024, 1024]\n",
      "['Desktop/DALLE.fruits', 1966, 1024, 1024]\n",
      "['Desktop/DALLE.fruits', 1920, 1024, 1024]\n",
      "['Desktop/DALLE.fruits', 1753, 1024, 1024]\n",
      "['Desktop/DALLE.fruits', 1774, 1024, 1024]\n",
      "['Desktop/DALLE.fruits', 1830, 1024, 1024]\n",
      "['Desktop/DALLE.fruits', 2058, 1024, 1024]\n",
      "['Desktop/DALLE.fruits', 1727, 1024, 1024]\n",
      "['Desktop/DALLE.fruits', 1725, 1024, 1024]\n",
      "['Desktop/DALLE.fruits', 1944, 1024, 1024]\n",
      "['Desktop/DALLE.fruits', 1640, 1024, 1024]\n",
      "['Desktop/DALLE.fruits', 1640, 1024, 1024]\n",
      "['Desktop/DALLE.fruits', 2009, 1024, 1024]\n",
      "['Desktop/DALLE.fruits', 1660, 1024, 1024]\n",
      "['Desktop/DALLE.fruits', 1877, 1024, 1024]\n",
      "['Desktop/DALLE.fruits', 2014, 1024, 1024]\n",
      "['Desktop/DALLE.fruits', 1926, 1024, 1024]\n",
      "['Desktop/DALLE.fruits', 1962, 1024, 1024]\n",
      "['Desktop/DALLE.fruits', 1661, 1024, 1024]\n",
      "['Desktop/DALLE.fruits', 1930, 1024, 1024]\n",
      "['Desktop/DALLE.fruits', 2053, 1024, 1024]\n",
      "['Desktop/DALLE.fruits', 2090, 1024, 1024]\n",
      "['Desktop/DALLE.fruits', 1312, 1024, 1024]\n",
      "['Desktop/DALLE.fruits', 1659, 1024, 1024]\n",
      "['Desktop/DALLE.fruits', 1999, 1024, 1024]\n",
      "['Desktop/DALLE.fruits', 1971, 1024, 1024]\n",
      "['Desktop/DALLE.fruits', 1893, 1024, 1024]\n",
      "['Desktop/DALLE.fruits', 1874, 1024, 1024]\n",
      "['Desktop/DALLE.fruits', 1944, 1024, 1024]\n",
      "['Desktop/DALLE.fruits', 1853, 1024, 1024]\n",
      "['Desktop/DALLE.fruits', 1985, 1024, 1024]\n",
      "['Desktop/DALLE.fruits', 2497, 1024, 1024]\n",
      "['Desktop/DALLE.fruits', 1711, 1024, 1024]\n",
      "['Desktop/DALLE.fruits', 1642, 1024, 1024]\n",
      "['Desktop/DALLE.fruits', 1510, 1024, 1024]\n",
      "['Desktop/DALLE.fruits', 2157, 1024, 1024]\n"
     ]
    }
   ],
   "source": [
    "for x in ld:\n",
    "    print(x)"
   ]
  },
  {
   "cell_type": "markdown",
   "id": "1fa8d8ac",
   "metadata": {},
   "source": [
    "### *Real Artists - Fruits*"
   ]
  },
  {
   "cell_type": "code",
   "execution_count": 65,
   "id": "15da86b3",
   "metadata": {},
   "outputs": [],
   "source": [
    "directory = 'Desktop/Real_Artists.fruits'"
   ]
  },
  {
   "cell_type": "code",
   "execution_count": 66,
   "id": "698ee7e1",
   "metadata": {},
   "outputs": [],
   "source": [
    "def get_raw_data(directory,category):\n",
    "    local_data = list()\n",
    "     \n",
    "    for filename in os.listdir(directory):\n",
    "        f = os.path.join(directory, filename)\n",
    "        if os.path.isfile(f):\n",
    "            if(f.endswith(\".png\") or f.endswith(\"jpg\") or f.endswith(\"jpeg\")):\n",
    "               size = round(os.path.getsize(f)/1023) #converting the size to kilobytes\n",
    "                              \n",
    "               img_path = os.path.join(f) #making image file path\n",
    "               im = Image.open(img_path)\n",
    "               \n",
    "               local_data.append([category, size, im.size[0], im.size[1]]) #can add f inside brackets to get file name\n",
    "       \n",
    "    return (local_data)"
   ]
  },
  {
   "cell_type": "code",
   "execution_count": 67,
   "id": "50e5ef5c",
   "metadata": {},
   "outputs": [],
   "source": [
    "ld = get_raw_data(directory, 'Desktop/Real_Artists.fruits')"
   ]
  },
  {
   "cell_type": "code",
   "execution_count": 68,
   "id": "8378b76b",
   "metadata": {},
   "outputs": [
    {
     "data": {
      "text/plain": [
       "[['Desktop/Real_Artists.fruits', 105, 500, 700],\n",
       " ['Desktop/Real_Artists.fruits', 50, 770, 529],\n",
       " ['Desktop/Real_Artists.fruits', 14, 235, 387],\n",
       " ['Desktop/Real_Artists.fruits', 55, 500, 500],\n",
       " ['Desktop/Real_Artists.fruits', 1317, 3210, 3616],\n",
       " ['Desktop/Real_Artists.fruits', 78, 564, 789],\n",
       " ['Desktop/Real_Artists.fruits', 1118, 3000, 2331],\n",
       " ['Desktop/Real_Artists.fruits', 179, 750, 900],\n",
       " ['Desktop/Real_Artists.fruits', 60, 564, 731],\n",
       " ['Desktop/Real_Artists.fruits', 161, 900, 459],\n",
       " ['Desktop/Real_Artists.fruits', 20, 600, 480],\n",
       " ['Desktop/Real_Artists.fruits', 32, 360, 359],\n",
       " ['Desktop/Real_Artists.fruits', 129, 564, 789],\n",
       " ['Desktop/Real_Artists.fruits', 176, 1280, 720],\n",
       " ['Desktop/Real_Artists.fruits', 44, 495, 500],\n",
       " ['Desktop/Real_Artists.fruits', 52, 770, 1169],\n",
       " ['Desktop/Real_Artists.fruits', 108, 900, 900],\n",
       " ['Desktop/Real_Artists.fruits', 23, 360, 452],\n",
       " ['Desktop/Real_Artists.fruits', 58, 564, 564],\n",
       " ['Desktop/Real_Artists.fruits', 158, 900, 669],\n",
       " ['Desktop/Real_Artists.fruits', 84, 900, 640],\n",
       " ['Desktop/Real_Artists.fruits', 89, 720, 714],\n",
       " ['Desktop/Real_Artists.fruits', 111, 564, 764],\n",
       " ['Desktop/Real_Artists.fruits', 50, 770, 601],\n",
       " ['Desktop/Real_Artists.fruits', 211, 900, 891],\n",
       " ['Desktop/Real_Artists.fruits', 46, 770, 800],\n",
       " ['Desktop/Real_Artists.fruits', 47, 700, 500],\n",
       " ['Desktop/Real_Artists.fruits', 62, 770, 962],\n",
       " ['Desktop/Real_Artists.fruits', 43, 564, 564],\n",
       " ['Desktop/Real_Artists.fruits', 127, 750, 499],\n",
       " ['Desktop/Real_Artists.fruits', 335, 900, 900],\n",
       " ['Desktop/Real_Artists.fruits', 63, 960, 720],\n",
       " ['Desktop/Real_Artists.fruits', 29, 484, 500],\n",
       " ['Desktop/Real_Artists.fruits', 138, 560, 1098],\n",
       " ['Desktop/Real_Artists.fruits', 49, 770, 767],\n",
       " ['Desktop/Real_Artists.fruits', 235, 1024, 730],\n",
       " ['Desktop/Real_Artists.fruits', 36, 563, 446],\n",
       " ['Desktop/Real_Artists.fruits', 59, 780, 576],\n",
       " ['Desktop/Real_Artists.fruits', 261, 697, 900],\n",
       " ['Desktop/Real_Artists.fruits', 20, 352, 499],\n",
       " ['Desktop/Real_Artists.fruits', 118, 564, 860],\n",
       " ['Desktop/Real_Artists.fruits', 73, 770, 616],\n",
       " ['Desktop/Real_Artists.fruits', 26, 320, 474],\n",
       " ['Desktop/Real_Artists.fruits', 72, 770, 592],\n",
       " ['Desktop/Real_Artists.fruits', 109, 900, 553],\n",
       " ['Desktop/Real_Artists.fruits', 87, 473, 663],\n",
       " ['Desktop/Real_Artists.fruits', 412, 650, 650]]"
      ]
     },
     "execution_count": 68,
     "metadata": {},
     "output_type": "execute_result"
    }
   ],
   "source": [
    "ld"
   ]
  },
  {
   "cell_type": "code",
   "execution_count": 69,
   "id": "c67e9288",
   "metadata": {},
   "outputs": [],
   "source": [
    "real_fruits = pd.DataFrame(ld)"
   ]
  },
  {
   "cell_type": "code",
   "execution_count": 70,
   "id": "85a66873",
   "metadata": {},
   "outputs": [
    {
     "name": "stdout",
     "output_type": "stream",
     "text": [
      "['Desktop/Real_Artists.fruits', 105, 500, 700]\n",
      "['Desktop/Real_Artists.fruits', 50, 770, 529]\n",
      "['Desktop/Real_Artists.fruits', 14, 235, 387]\n",
      "['Desktop/Real_Artists.fruits', 55, 500, 500]\n",
      "['Desktop/Real_Artists.fruits', 1317, 3210, 3616]\n",
      "['Desktop/Real_Artists.fruits', 78, 564, 789]\n",
      "['Desktop/Real_Artists.fruits', 1118, 3000, 2331]\n",
      "['Desktop/Real_Artists.fruits', 179, 750, 900]\n",
      "['Desktop/Real_Artists.fruits', 60, 564, 731]\n",
      "['Desktop/Real_Artists.fruits', 161, 900, 459]\n",
      "['Desktop/Real_Artists.fruits', 20, 600, 480]\n",
      "['Desktop/Real_Artists.fruits', 32, 360, 359]\n",
      "['Desktop/Real_Artists.fruits', 129, 564, 789]\n",
      "['Desktop/Real_Artists.fruits', 176, 1280, 720]\n",
      "['Desktop/Real_Artists.fruits', 44, 495, 500]\n",
      "['Desktop/Real_Artists.fruits', 52, 770, 1169]\n",
      "['Desktop/Real_Artists.fruits', 108, 900, 900]\n",
      "['Desktop/Real_Artists.fruits', 23, 360, 452]\n",
      "['Desktop/Real_Artists.fruits', 58, 564, 564]\n",
      "['Desktop/Real_Artists.fruits', 158, 900, 669]\n",
      "['Desktop/Real_Artists.fruits', 84, 900, 640]\n",
      "['Desktop/Real_Artists.fruits', 89, 720, 714]\n",
      "['Desktop/Real_Artists.fruits', 111, 564, 764]\n",
      "['Desktop/Real_Artists.fruits', 50, 770, 601]\n",
      "['Desktop/Real_Artists.fruits', 211, 900, 891]\n",
      "['Desktop/Real_Artists.fruits', 46, 770, 800]\n",
      "['Desktop/Real_Artists.fruits', 47, 700, 500]\n",
      "['Desktop/Real_Artists.fruits', 62, 770, 962]\n",
      "['Desktop/Real_Artists.fruits', 43, 564, 564]\n",
      "['Desktop/Real_Artists.fruits', 127, 750, 499]\n",
      "['Desktop/Real_Artists.fruits', 335, 900, 900]\n",
      "['Desktop/Real_Artists.fruits', 63, 960, 720]\n",
      "['Desktop/Real_Artists.fruits', 29, 484, 500]\n",
      "['Desktop/Real_Artists.fruits', 138, 560, 1098]\n",
      "['Desktop/Real_Artists.fruits', 49, 770, 767]\n",
      "['Desktop/Real_Artists.fruits', 235, 1024, 730]\n",
      "['Desktop/Real_Artists.fruits', 36, 563, 446]\n",
      "['Desktop/Real_Artists.fruits', 59, 780, 576]\n",
      "['Desktop/Real_Artists.fruits', 261, 697, 900]\n",
      "['Desktop/Real_Artists.fruits', 20, 352, 499]\n",
      "['Desktop/Real_Artists.fruits', 118, 564, 860]\n",
      "['Desktop/Real_Artists.fruits', 73, 770, 616]\n",
      "['Desktop/Real_Artists.fruits', 26, 320, 474]\n",
      "['Desktop/Real_Artists.fruits', 72, 770, 592]\n",
      "['Desktop/Real_Artists.fruits', 109, 900, 553]\n",
      "['Desktop/Real_Artists.fruits', 87, 473, 663]\n",
      "['Desktop/Real_Artists.fruits', 412, 650, 650]\n"
     ]
    }
   ],
   "source": [
    "for x in ld:\n",
    "    print(x)"
   ]
  },
  {
   "cell_type": "markdown",
   "id": "3a89f1c5",
   "metadata": {},
   "source": [
    "### *DALLE - House*"
   ]
  },
  {
   "cell_type": "code",
   "execution_count": 71,
   "id": "3cf7078c",
   "metadata": {},
   "outputs": [],
   "source": [
    "directory = 'Desktop/DALLE.house'"
   ]
  },
  {
   "cell_type": "code",
   "execution_count": 72,
   "id": "c17417b2",
   "metadata": {},
   "outputs": [],
   "source": [
    "def get_raw_data(directory,category):\n",
    "    local_data = list()\n",
    "     \n",
    "    for filename in os.listdir(directory):\n",
    "        f = os.path.join(directory, filename)\n",
    "        if os.path.isfile(f):\n",
    "            if(f.endswith(\".png\") or f.endswith(\"jpg\") or f.endswith(\"jpeg\")):\n",
    "               size = round(os.path.getsize(f)/1023) #converting the size to kilobytes\n",
    "                              \n",
    "               img_path = os.path.join(f) #making image file path\n",
    "               im = Image.open(img_path)\n",
    "               \n",
    "               local_data.append([category, size, im.size[0], im.size[1]]) #can add f inside brackets to get file name\n",
    "       \n",
    "    return (local_data)"
   ]
  },
  {
   "cell_type": "code",
   "execution_count": 73,
   "id": "a73fe482",
   "metadata": {},
   "outputs": [],
   "source": [
    "ld = get_raw_data(directory, 'Desktop/DALLE.house')"
   ]
  },
  {
   "cell_type": "code",
   "execution_count": 74,
   "id": "e4c95452",
   "metadata": {},
   "outputs": [
    {
     "data": {
      "text/plain": [
       "[['Desktop/DALLE.house', 2011, 1024, 1024],\n",
       " ['Desktop/DALLE.house', 1743, 1024, 1024],\n",
       " ['Desktop/DALLE.house', 1756, 1024, 1024],\n",
       " ['Desktop/DALLE.house', 1834, 1024, 1024],\n",
       " ['Desktop/DALLE.house', 1656, 1024, 1024],\n",
       " ['Desktop/DALLE.house', 1862, 1024, 1024],\n",
       " ['Desktop/DALLE.house', 1938, 1024, 1024],\n",
       " ['Desktop/DALLE.house', 1824, 1024, 1024],\n",
       " ['Desktop/DALLE.house', 1720, 1024, 1024],\n",
       " ['Desktop/DALLE.house', 1870, 1024, 1024],\n",
       " ['Desktop/DALLE.house', 1865, 1024, 1024],\n",
       " ['Desktop/DALLE.house', 1913, 1024, 1024],\n",
       " ['Desktop/DALLE.house', 2207, 1024, 1024],\n",
       " ['Desktop/DALLE.house', 2238, 1024, 1024],\n",
       " ['Desktop/DALLE.house', 2080, 1024, 1024],\n",
       " ['Desktop/DALLE.house', 1858, 1024, 1024],\n",
       " ['Desktop/DALLE.house', 1890, 1024, 1024],\n",
       " ['Desktop/DALLE.house', 1979, 1024, 1024],\n",
       " ['Desktop/DALLE.house', 1945, 1024, 1024],\n",
       " ['Desktop/DALLE.house', 2247, 1024, 1024],\n",
       " ['Desktop/DALLE.house', 2044, 1024, 1024],\n",
       " ['Desktop/DALLE.house', 1726, 1024, 1024],\n",
       " ['Desktop/DALLE.house', 1811, 1024, 1024],\n",
       " ['Desktop/DALLE.house', 2456, 1024, 1024],\n",
       " ['Desktop/DALLE.house', 1851, 1024, 1024],\n",
       " ['Desktop/DALLE.house', 1908, 1024, 1024],\n",
       " ['Desktop/DALLE.house', 1950, 1024, 1024],\n",
       " ['Desktop/DALLE.house', 1848, 1024, 1024],\n",
       " ['Desktop/DALLE.house', 2168, 1024, 1024],\n",
       " ['Desktop/DALLE.house', 1723, 1024, 1024],\n",
       " ['Desktop/DALLE.house', 1765, 1024, 1024],\n",
       " ['Desktop/DALLE.house', 2361, 1024, 1024],\n",
       " ['Desktop/DALLE.house', 1662, 1024, 1024],\n",
       " ['Desktop/DALLE.house', 2002, 1024, 1024],\n",
       " ['Desktop/DALLE.house', 2127, 1024, 1024],\n",
       " ['Desktop/DALLE.house', 1949, 1024, 1024],\n",
       " ['Desktop/DALLE.house', 1949, 1024, 1024],\n",
       " ['Desktop/DALLE.house', 1963, 1024, 1024],\n",
       " ['Desktop/DALLE.house', 2002, 1024, 1024],\n",
       " ['Desktop/DALLE.house', 1863, 1024, 1024],\n",
       " ['Desktop/DALLE.house', 1872, 1024, 1024],\n",
       " ['Desktop/DALLE.house', 2047, 1024, 1024],\n",
       " ['Desktop/DALLE.house', 1991, 1024, 1024],\n",
       " ['Desktop/DALLE.house', 1344, 1024, 1024],\n",
       " ['Desktop/DALLE.house', 1827, 1024, 1024],\n",
       " ['Desktop/DALLE.house', 1862, 1024, 1024],\n",
       " ['Desktop/DALLE.house', 1869, 1024, 1024],\n",
       " ['Desktop/DALLE.house', 1685, 1024, 1024],\n",
       " ['Desktop/DALLE.house', 1833, 1024, 1024],\n",
       " ['Desktop/DALLE.house', 2079, 1024, 1024]]"
      ]
     },
     "execution_count": 74,
     "metadata": {},
     "output_type": "execute_result"
    }
   ],
   "source": [
    "ld"
   ]
  },
  {
   "cell_type": "code",
   "execution_count": 75,
   "id": "b519f8b2",
   "metadata": {},
   "outputs": [],
   "source": [
    "dalle_house = pd.DataFrame(ld)"
   ]
  },
  {
   "cell_type": "code",
   "execution_count": 76,
   "id": "dfca25a2",
   "metadata": {},
   "outputs": [
    {
     "name": "stdout",
     "output_type": "stream",
     "text": [
      "['Desktop/DALLE.house', 2011, 1024, 1024]\n",
      "['Desktop/DALLE.house', 1743, 1024, 1024]\n",
      "['Desktop/DALLE.house', 1756, 1024, 1024]\n",
      "['Desktop/DALLE.house', 1834, 1024, 1024]\n",
      "['Desktop/DALLE.house', 1656, 1024, 1024]\n",
      "['Desktop/DALLE.house', 1862, 1024, 1024]\n",
      "['Desktop/DALLE.house', 1938, 1024, 1024]\n",
      "['Desktop/DALLE.house', 1824, 1024, 1024]\n",
      "['Desktop/DALLE.house', 1720, 1024, 1024]\n",
      "['Desktop/DALLE.house', 1870, 1024, 1024]\n",
      "['Desktop/DALLE.house', 1865, 1024, 1024]\n",
      "['Desktop/DALLE.house', 1913, 1024, 1024]\n",
      "['Desktop/DALLE.house', 2207, 1024, 1024]\n",
      "['Desktop/DALLE.house', 2238, 1024, 1024]\n",
      "['Desktop/DALLE.house', 2080, 1024, 1024]\n",
      "['Desktop/DALLE.house', 1858, 1024, 1024]\n",
      "['Desktop/DALLE.house', 1890, 1024, 1024]\n",
      "['Desktop/DALLE.house', 1979, 1024, 1024]\n",
      "['Desktop/DALLE.house', 1945, 1024, 1024]\n",
      "['Desktop/DALLE.house', 2247, 1024, 1024]\n",
      "['Desktop/DALLE.house', 2044, 1024, 1024]\n",
      "['Desktop/DALLE.house', 1726, 1024, 1024]\n",
      "['Desktop/DALLE.house', 1811, 1024, 1024]\n",
      "['Desktop/DALLE.house', 2456, 1024, 1024]\n",
      "['Desktop/DALLE.house', 1851, 1024, 1024]\n",
      "['Desktop/DALLE.house', 1908, 1024, 1024]\n",
      "['Desktop/DALLE.house', 1950, 1024, 1024]\n",
      "['Desktop/DALLE.house', 1848, 1024, 1024]\n",
      "['Desktop/DALLE.house', 2168, 1024, 1024]\n",
      "['Desktop/DALLE.house', 1723, 1024, 1024]\n",
      "['Desktop/DALLE.house', 1765, 1024, 1024]\n",
      "['Desktop/DALLE.house', 2361, 1024, 1024]\n",
      "['Desktop/DALLE.house', 1662, 1024, 1024]\n",
      "['Desktop/DALLE.house', 2002, 1024, 1024]\n",
      "['Desktop/DALLE.house', 2127, 1024, 1024]\n",
      "['Desktop/DALLE.house', 1949, 1024, 1024]\n",
      "['Desktop/DALLE.house', 1949, 1024, 1024]\n",
      "['Desktop/DALLE.house', 1963, 1024, 1024]\n",
      "['Desktop/DALLE.house', 2002, 1024, 1024]\n",
      "['Desktop/DALLE.house', 1863, 1024, 1024]\n",
      "['Desktop/DALLE.house', 1872, 1024, 1024]\n",
      "['Desktop/DALLE.house', 2047, 1024, 1024]\n",
      "['Desktop/DALLE.house', 1991, 1024, 1024]\n",
      "['Desktop/DALLE.house', 1344, 1024, 1024]\n",
      "['Desktop/DALLE.house', 1827, 1024, 1024]\n",
      "['Desktop/DALLE.house', 1862, 1024, 1024]\n",
      "['Desktop/DALLE.house', 1869, 1024, 1024]\n",
      "['Desktop/DALLE.house', 1685, 1024, 1024]\n",
      "['Desktop/DALLE.house', 1833, 1024, 1024]\n",
      "['Desktop/DALLE.house', 2079, 1024, 1024]\n"
     ]
    }
   ],
   "source": [
    "for x in ld:\n",
    "    print(x)"
   ]
  },
  {
   "cell_type": "markdown",
   "id": "6a899853",
   "metadata": {},
   "source": [
    "### *Real Artists - House*"
   ]
  },
  {
   "cell_type": "code",
   "execution_count": 77,
   "id": "ce0c1856",
   "metadata": {},
   "outputs": [],
   "source": [
    "directory = 'Desktop/Real_Artists.house'"
   ]
  },
  {
   "cell_type": "code",
   "execution_count": 78,
   "id": "bd2a3c2f",
   "metadata": {},
   "outputs": [],
   "source": [
    "def get_raw_data(directory,category):\n",
    "    local_data = list()\n",
    "     \n",
    "    for filename in os.listdir(directory):\n",
    "        f = os.path.join(directory, filename)\n",
    "        if os.path.isfile(f):\n",
    "            if(f.endswith(\".png\") or f.endswith(\"jpg\") or f.endswith(\"jpeg\")):\n",
    "               size = round(os.path.getsize(f)/1023) #converting the size to kilobytes\n",
    "                              \n",
    "               img_path = os.path.join(f) #making image file path\n",
    "               im = Image.open(img_path)\n",
    "               \n",
    "               local_data.append([category, size, im.size[0], im.size[1]]) #can add f inside brackets to get file name\n",
    "       \n",
    "    return (local_data)"
   ]
  },
  {
   "cell_type": "code",
   "execution_count": 79,
   "id": "c8d176fc",
   "metadata": {},
   "outputs": [],
   "source": [
    "ld = get_raw_data(directory, 'Desktop/Real_Artists.house')"
   ]
  },
  {
   "cell_type": "code",
   "execution_count": 80,
   "id": "962eb205",
   "metadata": {},
   "outputs": [
    {
     "data": {
      "text/plain": [
       "[['Desktop/Real_Artists.house', 72, 564, 549],\n",
       " ['Desktop/Real_Artists.house', 1159, 2862, 2241],\n",
       " ['Desktop/Real_Artists.house', 96, 563, 564],\n",
       " ['Desktop/Real_Artists.house', 54, 446, 630],\n",
       " ['Desktop/Real_Artists.house', 46, 564, 536],\n",
       " ['Desktop/Real_Artists.house', 89, 430, 605],\n",
       " ['Desktop/Real_Artists.house', 85, 600, 437],\n",
       " ['Desktop/Real_Artists.house', 2052, 3645, 2478],\n",
       " ['Desktop/Real_Artists.house', 49, 563, 433],\n",
       " ['Desktop/Real_Artists.house', 87, 474, 537],\n",
       " ['Desktop/Real_Artists.house', 100, 575, 426],\n",
       " ['Desktop/Real_Artists.house', 154, 640, 450],\n",
       " ['Desktop/Real_Artists.house', 107, 600, 484],\n",
       " ['Desktop/Real_Artists.house', 57, 570, 450],\n",
       " ['Desktop/Real_Artists.house', 107, 600, 484],\n",
       " ['Desktop/Real_Artists.house', 134, 564, 716],\n",
       " ['Desktop/Real_Artists.house', 352, 900, 894],\n",
       " ['Desktop/Real_Artists.house', 120, 750, 600],\n",
       " ['Desktop/Real_Artists.house', 32, 340, 270],\n",
       " ['Desktop/Real_Artists.house', 258, 898, 614],\n",
       " ['Desktop/Real_Artists.house', 400, 1920, 1440],\n",
       " ['Desktop/Real_Artists.house', 262, 1000, 762],\n",
       " ['Desktop/Real_Artists.house', 95, 474, 578],\n",
       " ['Desktop/Real_Artists.house', 74, 564, 652],\n",
       " ['Desktop/Real_Artists.house', 359, 799, 646],\n",
       " ['Desktop/Real_Artists.house', 361, 1500, 1167],\n",
       " ['Desktop/Real_Artists.house', 49, 474, 640],\n",
       " ['Desktop/Real_Artists.house', 107, 600, 465],\n",
       " ['Desktop/Real_Artists.house', 75, 564, 423],\n",
       " ['Desktop/Real_Artists.house', 830, 2048, 1329],\n",
       " ['Desktop/Real_Artists.house', 152, 1106, 800],\n",
       " ['Desktop/Real_Artists.house', 105, 564, 806],\n",
       " ['Desktop/Real_Artists.house', 229, 800, 642],\n",
       " ['Desktop/Real_Artists.house', 79, 570, 437],\n",
       " ['Desktop/Real_Artists.house', 80, 768, 743],\n",
       " ['Desktop/Real_Artists.house', 116, 564, 766],\n",
       " ['Desktop/Real_Artists.house', 1080, 1920, 1518],\n",
       " ['Desktop/Real_Artists.house', 444, 1280, 936],\n",
       " ['Desktop/Real_Artists.house', 58, 563, 438],\n",
       " ['Desktop/Real_Artists.house', 72, 564, 443],\n",
       " ['Desktop/Real_Artists.house', 108, 564, 846],\n",
       " ['Desktop/Real_Artists.house', 1744, 1600, 1263],\n",
       " ['Desktop/Real_Artists.house', 67, 570, 431]]"
      ]
     },
     "execution_count": 80,
     "metadata": {},
     "output_type": "execute_result"
    }
   ],
   "source": [
    "ld"
   ]
  },
  {
   "cell_type": "code",
   "execution_count": 81,
   "id": "fb890833",
   "metadata": {},
   "outputs": [],
   "source": [
    "real_house = pd.DataFrame(ld)"
   ]
  },
  {
   "cell_type": "code",
   "execution_count": 82,
   "id": "db6ec675",
   "metadata": {},
   "outputs": [
    {
     "name": "stdout",
     "output_type": "stream",
     "text": [
      "['Desktop/Real_Artists.house', 72, 564, 549]\n",
      "['Desktop/Real_Artists.house', 1159, 2862, 2241]\n",
      "['Desktop/Real_Artists.house', 96, 563, 564]\n",
      "['Desktop/Real_Artists.house', 54, 446, 630]\n",
      "['Desktop/Real_Artists.house', 46, 564, 536]\n",
      "['Desktop/Real_Artists.house', 89, 430, 605]\n",
      "['Desktop/Real_Artists.house', 85, 600, 437]\n",
      "['Desktop/Real_Artists.house', 2052, 3645, 2478]\n",
      "['Desktop/Real_Artists.house', 49, 563, 433]\n",
      "['Desktop/Real_Artists.house', 87, 474, 537]\n",
      "['Desktop/Real_Artists.house', 100, 575, 426]\n",
      "['Desktop/Real_Artists.house', 154, 640, 450]\n",
      "['Desktop/Real_Artists.house', 107, 600, 484]\n",
      "['Desktop/Real_Artists.house', 57, 570, 450]\n",
      "['Desktop/Real_Artists.house', 107, 600, 484]\n",
      "['Desktop/Real_Artists.house', 134, 564, 716]\n",
      "['Desktop/Real_Artists.house', 352, 900, 894]\n",
      "['Desktop/Real_Artists.house', 120, 750, 600]\n",
      "['Desktop/Real_Artists.house', 32, 340, 270]\n",
      "['Desktop/Real_Artists.house', 258, 898, 614]\n",
      "['Desktop/Real_Artists.house', 400, 1920, 1440]\n",
      "['Desktop/Real_Artists.house', 262, 1000, 762]\n",
      "['Desktop/Real_Artists.house', 95, 474, 578]\n",
      "['Desktop/Real_Artists.house', 74, 564, 652]\n",
      "['Desktop/Real_Artists.house', 359, 799, 646]\n",
      "['Desktop/Real_Artists.house', 361, 1500, 1167]\n",
      "['Desktop/Real_Artists.house', 49, 474, 640]\n",
      "['Desktop/Real_Artists.house', 107, 600, 465]\n",
      "['Desktop/Real_Artists.house', 75, 564, 423]\n",
      "['Desktop/Real_Artists.house', 830, 2048, 1329]\n",
      "['Desktop/Real_Artists.house', 152, 1106, 800]\n",
      "['Desktop/Real_Artists.house', 105, 564, 806]\n",
      "['Desktop/Real_Artists.house', 229, 800, 642]\n",
      "['Desktop/Real_Artists.house', 79, 570, 437]\n",
      "['Desktop/Real_Artists.house', 80, 768, 743]\n",
      "['Desktop/Real_Artists.house', 116, 564, 766]\n",
      "['Desktop/Real_Artists.house', 1080, 1920, 1518]\n",
      "['Desktop/Real_Artists.house', 444, 1280, 936]\n",
      "['Desktop/Real_Artists.house', 58, 563, 438]\n",
      "['Desktop/Real_Artists.house', 72, 564, 443]\n",
      "['Desktop/Real_Artists.house', 108, 564, 846]\n",
      "['Desktop/Real_Artists.house', 1744, 1600, 1263]\n",
      "['Desktop/Real_Artists.house', 67, 570, 431]\n"
     ]
    }
   ],
   "source": [
    "for x in ld:\n",
    "    print(x)"
   ]
  },
  {
   "cell_type": "markdown",
   "id": "43a8612d",
   "metadata": {},
   "source": [
    "# Bar Chart Showing Average Image Size of Both Real and AI Artists"
   ]
  },
  {
   "cell_type": "code",
   "execution_count": 83,
   "id": "b227558b",
   "metadata": {},
   "outputs": [],
   "source": [
    "df = pd.concat([dalle_cups, real_cups, dalle_dogs, real_dogs, dalle_fruits, real_fruits, dalle_house, real_house])"
   ]
  },
  {
   "cell_type": "code",
   "execution_count": 84,
   "id": "261b1d9a",
   "metadata": {},
   "outputs": [],
   "source": [
    "df.columns = ['category','size','height','width']"
   ]
  },
  {
   "cell_type": "code",
   "execution_count": 85,
   "id": "d653c594",
   "metadata": {},
   "outputs": [
    {
     "data": {
      "image/png": "[encoded data removed]",
      "text/plain": [
       "<Figure size 432x288 with 1 Axes>"
      ]
     },
     "metadata": {
      "needs_background": "light"
     },
     "output_type": "display_data"
    }
   ],
   "source": [
    "df['size'].groupby(df['category']).mean().plot(kind='bar')\n",
    "plt.xlabel('Artists', fontsize='12', fontweight='bold')\n",
    "plt.ylabel('Image Size', fontsize='12', fontweight='bold')\n",
    "plt.title('Average Image Size of Both Real and AI Artists', fontsize='14')\n",
    "bars = ('AI_cups', 'AI_dogs', 'AI_fruits', 'AI_house', 'Real_cups', 'Real_dogs', 'Real_fruits', 'Real_house')\n",
    "y_pos = np.arange(len(bars))\n",
    "plt.xticks(y_pos, bars, color='red', rotation=45, fontsize='10', horizontalalignment='right')\n",
    "\n",
    "plt.show()"
   ]
  },
  {
   "cell_type": "code",
   "execution_count": 86,
   "id": "d00629d1",
   "metadata": {},
   "outputs": [
    {
     "data": {
      "text/plain": [
       "1127.090909090909"
      ]
     },
     "execution_count": 86,
     "metadata": {},
     "output_type": "execute_result"
    }
   ],
   "source": [
    "np.mean(df['size'])"
   ]
  },
  {
   "cell_type": "markdown",
   "id": "768b6563",
   "metadata": {},
   "source": [
    "# Image Classification"
   ]
  },
  {
   "cell_type": "markdown",
   "id": "4d43c265",
   "metadata": {},
   "source": [
    "Determining whether a piece of art was created by AI or by a real artist."
   ]
  },
  {
   "cell_type": "code",
   "execution_count": 123,
   "id": "e86285cc",
   "metadata": {},
   "outputs": [
    {
     "name": "stdout",
     "output_type": "stream",
     "text": [
      "Found 387 images belonging to 8 classes.\n",
      "Found 387 images belonging to 8 classes.\n",
      "Epoch 1/10\n",
      "13/13 [==============================] - 41s 3s/step - loss: -1818.8582 - accuracy: 0.1292 - val_loss: -9347.3066 - val_accuracy: 0.1292\n",
      "Epoch 2/10\n",
      "13/13 [==============================] - 41s 3s/step - loss: -61131.5078 - accuracy: 0.1292 - val_loss: -207788.6562 - val_accuracy: 0.1292\n",
      "Epoch 3/10\n",
      "13/13 [==============================] - 43s 4s/step - loss: -740731.4375 - accuracy: 0.1292 - val_loss: -1735300.0000 - val_accuracy: 0.1292\n",
      "Epoch 4/10\n",
      "13/13 [==============================] - 43s 4s/step - loss: -4436541.0000 - accuracy: 0.1292 - val_loss: -9368641.0000 - val_accuracy: 0.1292\n",
      "Epoch 5/10\n",
      "13/13 [==============================] - 39s 3s/step - loss: -18553936.0000 - accuracy: 0.1292 - val_loss: -34616300.0000 - val_accuracy: 0.1292\n",
      "Epoch 6/10\n",
      "13/13 [==============================] - 44s 3s/step - loss: -63872176.0000 - accuracy: 0.1292 - val_loss: -108990664.0000 - val_accuracy: 0.1292\n",
      "Epoch 7/10\n",
      "13/13 [==============================] - 52s 4s/step - loss: -175402528.0000 - accuracy: 0.1292 - val_loss: -300943520.0000 - val_accuracy: 0.1292\n",
      "Epoch 8/10\n",
      "13/13 [==============================] - 55s 4s/step - loss: -462101920.0000 - accuracy: 0.1292 - val_loss: -727670336.0000 - val_accuracy: 0.1292\n",
      "Epoch 9/10\n",
      "13/13 [==============================] - 46s 4s/step - loss: -1048004864.0000 - accuracy: 0.1292 - val_loss: -1553786880.0000 - val_accuracy: 0.1292\n",
      "Epoch 10/10\n",
      "13/13 [==============================] - 52s 4s/step - loss: -2134358528.0000 - accuracy: 0.1292 - val_loss: -3057523712.0000 - val_accuracy: 0.1292\n"
     ]
    }
   ],
   "source": [
    "import tensorflow as tf\n",
    "from tensorflow import keras\n",
    "from tensorflow.keras import layers\n",
    "from tensorflow.keras.preprocessing.image import ImageDataGenerator\n",
    "\n",
    "# Define the image size and batch size\n",
    "IMG_SIZE = 224\n",
    "BATCH_SIZE = 32\n",
    "\n",
    "# Define the directories where the images are located\n",
    "train_dir = \"Desktop/ai_and_real_copy\"\n",
    "val_dir = \"Desktop/ai_and_real_copy\"\n",
    "\n",
    "# Define the data generators for the train and validation datasets\n",
    "train_datagen = ImageDataGenerator(\n",
    "    rescale=1./255,\n",
    "    shear_range=0.2,\n",
    "    zoom_range=0.2,\n",
    "    horizontal_flip=True)\n",
    "\n",
    "train_generator = train_datagen.flow_from_directory(\n",
    "    train_dir,\n",
    "    target_size=(IMG_SIZE, IMG_SIZE),\n",
    "    batch_size=BATCH_SIZE,\n",
    "    class_mode='binary')\n",
    "\n",
    "val_datagen = ImageDataGenerator(rescale=1./255)\n",
    "\n",
    "val_generator = val_datagen.flow_from_directory(\n",
    "    val_dir,\n",
    "    target_size=(IMG_SIZE, IMG_SIZE),\n",
    "    batch_size=BATCH_SIZE,\n",
    "    class_mode='binary')\n",
    "\n",
    "# Define the model architecture\n",
    "model = keras.Sequential([\n",
    "    layers.Conv2D(16, 3, padding='same', activation='relu', input_shape=(IMG_SIZE, IMG_SIZE ,3)),\n",
    "    layers.MaxPooling2D(),\n",
    "    layers.Conv2D(32, 3, padding='same', activation='relu'),\n",
    "    layers.MaxPooling2D(),\n",
    "    layers.Conv2D(64, 3, padding='same', activation='relu'),\n",
    "    layers.MaxPooling2D(),\n",
    "    layers.Flatten(),\n",
    "    layers.Dense(128, activation='relu'),\n",
    "    layers.Dense(1, activation='sigmoid')\n",
    "])\n",
    "\n",
    "# Compile the model\n",
    "model.compile(optimizer='adam', loss='binary_crossentropy', metrics=['accuracy'])\n",
    "\n",
    "# Train the model\n",
    "history = model.fit(train_generator, epochs=10, validation_data=val_generator)\n",
    "\n",
    "# Save the model\n",
    "model.save(\"art_classifier.h5\")\n"
   ]
  },
  {
   "cell_type": "code",
   "execution_count": 127,
   "id": "513a52db",
   "metadata": {},
   "outputs": [
    {
     "name": "stdout",
     "output_type": "stream",
     "text": [
      "1/1 [==============================] - 0s 125ms/step\n",
      "AI art\n"
     ]
    }
   ],
   "source": [
    "import numpy as np\n",
    "from tensorflow.keras.preprocessing import image\n",
    "\n",
    "# Load the model\n",
    "model = keras.models.load_model(\"art_classifier.h5\")\n",
    "\n",
    "# Load the image to classify\n",
    "img_path = \"Desktop/Not-my-cup-of-tea-1024x787.jpeg.optimal.jpeg\" #\"/path/to/image\"\n",
    "img = image.load_img(img_path, target_size=(IMG_SIZE, IMG_SIZE))\n",
    "img_array = image.img_to_array(img)\n",
    "img_array = np.expand_dims(img_array, axis=0)\n",
    "\n",
    "# Classify the image\n",
    "pred = model.predict(img_array)\n",
    "\n",
    "# Print the result\n",
    "if pred[0] > 0.5:\n",
    "    print(\"AI art\")\n",
    "else:\n",
    "    print(\"Human-made art\")\n"
   ]
  },
  {
   "cell_type": "code",
   "execution_count": null,
   "id": "90d8ae77",
   "metadata": {},
   "outputs": [],
   "source": []
  }
 ],
 "metadata": {
  "kernelspec": {
   "display_name": "Python 3",
   "language": "python",
   "name": "python3"
  },
  "language_info": {
   "codemirror_mode": {
    "name": "ipython",
    "version": 3
   },
   "file_extension": ".py",
   "mimetype": "text/x-python",
   "name": "python",
   "nbconvert_exporter": "python",
   "pygments_lexer": "ipython3",
   "version": "3.8.8"
  }
 },
 "nbformat": 4,
 "nbformat_minor": 5
}
